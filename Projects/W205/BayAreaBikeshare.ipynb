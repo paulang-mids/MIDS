{
 "cells": [
  {
   "cell_type": "markdown",
   "metadata": {},
   "source": [
    "# Bay Area Bikeshare Analysis"
   ]
  },
  {
   "cell_type": "markdown",
   "metadata": {},
   "source": [
    "<img src=\"https://cdn.vox-cdn.com/thumbor/3VnR0Pfoyz7NIGS1XU59FgV61ok=/0x0:3000x2000/1720x0/filters:focal(0x0:3000x2000):no_upscale()/cdn.vox-cdn.com/uploads/chorus_asset/file/11953347/969820572.jpg.jpg\">\n",
    "Image Source: https://cdn.vox-cdn.com"
   ]
  },
  {
   "cell_type": "markdown",
   "metadata": {},
   "source": [
    "**Ford GoBike** is trying to find ways to increase ridership and in order to do so, is looking for recommendations for deals that can be offered through its mobile app. In order to come up with recommendations, I analyzed the **Bay Area Bike Share** data available in https://cloud.google.com/bigquery/public-data/bay-bike-share. The dataset consists of three main tables:\n",
    "- bikeshare_stations $\\hspace{5pt}$ - $\\hspace{5pt}$ This table has data related to the stations, their location, count of docks and installation date.\n",
    "- bikeshare status $\\hspace{12pt}$ - $\\hspace{5pt}$ This table has data related to the availability of bikes and docks and the corresponding times.\n",
    "- bikeshare_trips $\\hspace{16pt}$ - $\\hspace{5pt}$ This table has data related to the trips and the subscribers/customers using the bikes.\n",
    "\n",
    "I also used the following external dataset to get a better idea of the existing bikeshare landscape:\n",
    "- ZipCode data - A database of US zip codes was downloaded from https://simplemaps.com/data/us-zips. Only the zip, city and state columns were used from this dataset. The city and state columns have data for the respective official USPS city name and state corresponding to the zip.\n",
    "\n",
    "In order to get an understanding of the data quality as well as to highlight insights gained from the data, I started off by analyzing the above datasets and carrying out an exploratory data analysis (EDA). During the analysis, I also created some intermediate datasets to allow storage and use of pre-calculated fields as well as aggregated data. This notebook is an attempt to present the highlights of the analysis along with discussions on the findings and the inferences made thereof. I then attempted to identify the 5 most popular \"commuter trips\" based on some assumptions related to commuter trips and the insights gained from the EDA. At the end I made a few recommendations for offers that can potentially help Ford GoBike to increase ridership. "
   ]
  },
  {
   "cell_type": "markdown",
   "metadata": {},
   "source": [
    "## Dataset Stats\n",
    "- How may trips are there in the dataset?"
   ]
  },
  {
   "cell_type": "code",
   "execution_count": 5,
   "metadata": {},
   "outputs": [
    {
     "name": "stdout",
     "output_type": "stream",
     "text": [
      "Waiting on bqjob_r647717add9431c56_00000166425928e1_1 ... (1s) Current status: DONE   \n",
      "+------------+\n",
      "| trip_count |\n",
      "+------------+\n",
      "|     983648 |\n",
      "+------------+\n"
     ]
    }
   ],
   "source": [
    "!bq query --use_legacy_sql=FALSE ' \\\n",
    "select count(distinct trip_id) as trip_count FROM `bigquery-public-data.san_francisco.bikeshare_trips`'"
   ]
  },
  {
   "cell_type": "markdown",
   "metadata": {},
   "source": [
    "- How many stations are accounted for in the dataset?"
   ]
  },
  {
   "cell_type": "code",
   "execution_count": 6,
   "metadata": {},
   "outputs": [
    {
     "name": "stdout",
     "output_type": "stream",
     "text": [
      "Waiting on bqjob_rc208f3dc4d4704a_00000166425bbdcf_1 ... (0s) Current status: DONE   \n",
      "+---------------+\n",
      "| station_count |\n",
      "+---------------+\n",
      "|            74 |\n",
      "+---------------+\n"
     ]
    }
   ],
   "source": [
    "!bq query --use_legacy_sql=FALSE ' \\\n",
    "select count(distinct station_id) as station_count FROM `bigquery-public-data.san_francisco.bikeshare_stations`'"
   ]
  },
  {
   "cell_type": "markdown",
   "metadata": {},
   "source": [
    "- How many bikes are there?"
   ]
  },
  {
   "cell_type": "code",
   "execution_count": 7,
   "metadata": {},
   "outputs": [
    {
     "name": "stdout",
     "output_type": "stream",
     "text": [
      "Waiting on bqjob_r6c853e3d3011b43a_00000166425f76e4_1 ... (0s) Current status: DONE   \n",
      "+------------+\n",
      "| bike_count |\n",
      "+------------+\n",
      "|        700 |\n",
      "+------------+\n"
     ]
    }
   ],
   "source": [
    "!bq query --use_legacy_sql=FALSE ' \\\n",
    "SELECT count(distinct bike_number) as bike_count FROM `bigquery-public-data.san_francisco.bikeshare_trips`'"
   ]
  },
  {
   "cell_type": "markdown",
   "metadata": {},
   "source": [
    "- What is the total number of zip codes for the current customer base? "
   ]
  },
  {
   "cell_type": "code",
   "execution_count": 8,
   "metadata": {},
   "outputs": [
    {
     "name": "stdout",
     "output_type": "stream",
     "text": [
      "Waiting on bqjob_r6eb6789706933da8_0000016642629f98_1 ... (0s) Current status: DONE   \n",
      "+-----------+\n",
      "| zip_count |\n",
      "+-----------+\n",
      "|      8830 |\n",
      "+-----------+\n"
     ]
    }
   ],
   "source": [
    "!bq query --use_legacy_sql=FALSE ' \\\n",
    "SELECT count(distinct zip_code) as zip_count FROM `bigquery-public-data.san_francisco.bikeshare_trips`'"
   ]
  },
  {
   "cell_type": "markdown",
   "metadata": {},
   "source": [
    "- How many cities with bikeshare stations are considered the dataset?"
   ]
  },
  {
   "cell_type": "code",
   "execution_count": 10,
   "metadata": {},
   "outputs": [
    {
     "name": "stdout",
     "output_type": "stream",
     "text": [
      "Waiting on bqjob_r107575e28e170350_00000166426349f4_1 ... (0s) Current status: DONE   \n",
      "+------------+\n",
      "| city_count |\n",
      "+------------+\n",
      "|          5 |\n",
      "+------------+\n"
     ]
    }
   ],
   "source": [
    "!bq query --use_legacy_sql=FALSE ' \\\n",
    "SELECT count(distinct landmark) as city_count FROM `bigquery-public-data.san_francisco.bikeshare_stations`'"
   ]
  },
  {
   "cell_type": "markdown",
   "metadata": {},
   "source": [
    "## Data Preparation"
   ]
  },
  {
   "cell_type": "markdown",
   "metadata": {},
   "source": [
    "I created the following datasets in google big query:\n",
    "- <a href=\"https://bigquery.cloud.google.com/table/strange-song-215316:bike_trip_data.bikeshare_status_details?pli=1\">bikeshare_status_details</a> - This dataset has additional columns for various date and time breakups on top of the base columns available in the *bikeshare_status* table\n",
    "- <a href=\"https://bigquery.cloud.google.com/table/strange-song-215316:bike_trip_data.bikeshare_sts_mth_summary?pli=1\">bikeshare_sts_mth_summary</a> - This dataset has aggregated *bikeshare_status* data at the month level\n",
    "- <a href=\"https://bigquery.cloud.google.com/table/strange-song-215316:bike_trip_data.bikeshare_sts_day_summary?pli=1\">bikeshare_sts_day_summary </a> - This dataset has aggregated *bikeshare_status* data at the day level\n",
    "- <a href=\"https://bigquery.cloud.google.com/table/strange-song-215316:bike_trip_data.bikeshare_sts_weekday_summary?pli=1\">bikeshare_sts_weekday_summary </a> - This dataset has aggregated *bikeshare_status* data at the 'day of week' level\n",
    "- <a href=\"https://bigquery.cloud.google.com/table/strange-song-215316:bike_trip_data.bikeshare_sts_hour_summary?pli=1\">bikeshare_sts_hour_summary </a> - This dataset has aggregated *bikeshare_status* data at the hour level\n",
    "- <a href=\"https://bigquery.cloud.google.com/table/strange-song-215316:bike_trip_data.bikeshare_trip_details?pli=1\">bikeshare_trip_details</a> - This dataset has additional columns for categorizing one-way vs round trips, trip times as well as various date and time breakups on top of the base columns available in the *bikeshare_trips* table. Trips with the same start and end station name are categorized as *'Round Trips'* while the others are *'One Way Trips'*. Trips starting between 2 AM and 5 AM are categorized as *'Early Morning Trips'*, trips starting between 5 AM and noon as *'Morning Trips'*, trips starting between noon and 5 PM as *'Afternoon Trips'*, trips starting between 5 PM and 10 PM as *'Evening Trips'* and trips starting between 10 PM and 2 AM are categorized as *'Night Trips'*.\n",
    "\n",
    "The queries used to create these datasets is provided in the Appendix in the last section of the notebook."
   ]
  },
  {
   "cell_type": "markdown",
   "metadata": {},
   "source": [
    "#### Query Big Query Datasets and Write data to csv files"
   ]
  },
  {
   "cell_type": "markdown",
   "metadata": {},
   "source": [
    "**Note:** The csv files have been written to the folder for assignment 04 in the droplet. The csv files have not been uploaded to git due to the size of the files."
   ]
  },
  {
   "cell_type": "code",
   "execution_count": 12,
   "metadata": {},
   "outputs": [
    {
     "name": "stdout",
     "output_type": "stream",
     "text": [
      "Waiting on bqjob_r468ac1f56b8fa3aa_0000016642765650_1 ... (0s) Current status: DONE   "
     ]
    }
   ],
   "source": [
    "# Bikeshare Stations\n",
    "! bq query --use_legacy_sql=FALSE --format=csv ' \\\n",
    "SELECT * FROM `bigquery-public-data.san_francisco.bikeshare_stations`' > bike_stn.csv"
   ]
  },
  {
   "cell_type": "code",
   "execution_count": 7,
   "metadata": {},
   "outputs": [
    {
     "name": "stdout",
     "output_type": "stream",
     "text": [
      "Waiting on bqjob_r55e704c60b4950e6_000001664fac766f_1 ... (0s) Current status: DONE   "
     ]
    }
   ],
   "source": [
    "# Bikeshare Status Summaries\n",
    "! bq query --use_legacy_sql=FALSE --max_rows 1000 --format=csv ' \\\n",
    "SELECT * FROM `strange-song-215316.bike_trip_data.bikeshare_sts_mth_summary`' > bike_sts_mth.csv\n",
    "! bq query --use_legacy_sql=FALSE --max_rows 2500 --format=csv ' \\\n",
    "SELECT * FROM `strange-song-215316.bike_trip_data.bikeshare_sts_day_summary`' > bike_sts_day.csv\n",
    "! bq query --use_legacy_sql=FALSE --max_rows 550 --format=csv ' \\\n",
    "SELECT * FROM `strange-song-215316.bike_trip_data.bikeshare_sts_weekday_summary`' > bike_sts_wkday.csv\n",
    "! bq query --use_legacy_sql=FALSE --max_rows 2000 --format=csv ' \\\n",
    "SELECT * FROM `strange-song-215316.bike_trip_data.bikeshare_sts_hour_summary`' > bike_sts_hr.csv"
   ]
  },
  {
   "cell_type": "code",
   "execution_count": 17,
   "metadata": {},
   "outputs": [
    {
     "name": "stdout",
     "output_type": "stream",
     "text": [
      "Waiting on bqjob_r5ea2c60fa5753dc6_00000166472852df_1 ... (2s) Current status: DONE   "
     ]
    }
   ],
   "source": [
    "# Bikeshare Trip Details - Queries broken down by trip month to account for the limitation on the number of rows\n",
    "! bq query --use_legacy_sql=FALSE --max_rows 100000 --format=csv ' \\\n",
    "SELECT * FROM `strange-song-215316.bike_trip_data.bikeshare_trip_details` where trip_month=\"Jan\"' > bike_trp_dtls_jan.csv\n",
    "! bq query --use_legacy_sql=FALSE --max_rows 100000 --format=csv ' \\\n",
    "SELECT * FROM `strange-song-215316.bike_trip_data.bikeshare_trip_details` where trip_month=\"Feb\"' > bike_trp_dtls_feb.csv\n",
    "! bq query --use_legacy_sql=FALSE --max_rows 100000 --format=csv ' \\\n",
    "SELECT * FROM `strange-song-215316.bike_trip_data.bikeshare_trip_details` where trip_month=\"Mar\"' > bike_trp_dtls_mar.csv\n",
    "! bq query --use_legacy_sql=FALSE --max_rows 100000 --format=csv ' \\\n",
    "SELECT * FROM `strange-song-215316.bike_trip_data.bikeshare_trip_details` where trip_month=\"Apr\"' > bike_trp_dtls_apr.csv\n",
    "! bq query --use_legacy_sql=FALSE --max_rows 100000 --format=csv ' \\\n",
    "SELECT * FROM `strange-song-215316.bike_trip_data.bikeshare_trip_details` where trip_month=\"May\"' > bike_trp_dtls_may.csv\n",
    "! bq query --use_legacy_sql=FALSE --max_rows 100000 --format=csv ' \\\n",
    "SELECT * FROM `strange-song-215316.bike_trip_data.bikeshare_trip_details` where trip_month=\"Jun\"' > bike_trp_dtls_jun.csv\n",
    "! bq query --use_legacy_sql=FALSE --max_rows 100000 --format=csv ' \\\n",
    "SELECT * FROM `strange-song-215316.bike_trip_data.bikeshare_trip_details` where trip_month=\"Jul\"' > bike_trp_dtls_jul.csv\n",
    "! bq query --use_legacy_sql=FALSE --max_rows 100000 --format=csv ' \\\n",
    "SELECT * FROM `strange-song-215316.bike_trip_data.bikeshare_trip_details` where trip_month=\"Aug\"' > bike_trp_dtls_aug.csv\n",
    "! bq query --use_legacy_sql=FALSE --max_rows 100000 --format=csv ' \\\n",
    "SELECT * FROM `strange-song-215316.bike_trip_data.bikeshare_trip_details` where trip_month=\"Sep\"' > bike_trp_dtls_sep.csv\n",
    "! bq query --use_legacy_sql=FALSE --max_rows 100000 --format=csv ' \\\n",
    "SELECT * FROM `strange-song-215316.bike_trip_data.bikeshare_trip_details` where trip_month=\"Oct\"' > bike_trp_dtls_oct.csv\n",
    "! bq query --use_legacy_sql=FALSE --max_rows 100000 --format=csv ' \\\n",
    "SELECT * FROM `strange-song-215316.bike_trip_data.bikeshare_trip_details` where trip_month=\"Nov\"' > bike_trp_dtls_nov.csv\n",
    "! bq query --use_legacy_sql=FALSE --max_rows 100000 --format=csv ' \\\n",
    "SELECT * FROM `strange-song-215316.bike_trip_data.bikeshare_trip_details` where trip_month=\"Dec\"' > bike_trp_dtls_dec.csv"
   ]
  },
  {
   "cell_type": "markdown",
   "metadata": {},
   "source": [
    "#### Read data from csv into dataframes"
   ]
  },
  {
   "cell_type": "code",
   "execution_count": 1,
   "metadata": {},
   "outputs": [],
   "source": [
    "import pandas as pd\n",
    "import numpy as np\n",
    "from matplotlib import pyplot as plt\n",
    "%matplotlib inline\n",
    "\n",
    "plt.style.use('ggplot')"
   ]
  },
  {
   "cell_type": "code",
   "execution_count": 2,
   "metadata": {},
   "outputs": [],
   "source": [
    "#Dictionary for numbering days of week\n",
    "weekdays = {'Sun': 1, 'Mon': 2, 'Tue': 3, 'Wed': 4, 'Thu': 5, 'Fri': 6, 'Sat': 7}"
   ]
  },
  {
   "cell_type": "code",
   "execution_count": 3,
   "metadata": {},
   "outputs": [
    {
     "data": {
      "text/html": [
       "<div>\n",
       "<style scoped>\n",
       "    .dataframe tbody tr th:only-of-type {\n",
       "        vertical-align: middle;\n",
       "    }\n",
       "\n",
       "    .dataframe tbody tr th {\n",
       "        vertical-align: top;\n",
       "    }\n",
       "\n",
       "    .dataframe thead th {\n",
       "        text-align: right;\n",
       "    }\n",
       "</style>\n",
       "<table border=\"1\" class=\"dataframe\">\n",
       "  <thead>\n",
       "    <tr style=\"text-align: right;\">\n",
       "      <th></th>\n",
       "      <th>zip_code</th>\n",
       "      <th>zip_city</th>\n",
       "      <th>zip_state</th>\n",
       "    </tr>\n",
       "  </thead>\n",
       "  <tbody>\n",
       "    <tr>\n",
       "      <th>0</th>\n",
       "      <td>501</td>\n",
       "      <td>Holtsville</td>\n",
       "      <td>NY</td>\n",
       "    </tr>\n",
       "    <tr>\n",
       "      <th>1</th>\n",
       "      <td>544</td>\n",
       "      <td>Holtsville</td>\n",
       "      <td>NY</td>\n",
       "    </tr>\n",
       "    <tr>\n",
       "      <th>2</th>\n",
       "      <td>601</td>\n",
       "      <td>Adjuntas</td>\n",
       "      <td>PR</td>\n",
       "    </tr>\n",
       "    <tr>\n",
       "      <th>3</th>\n",
       "      <td>602</td>\n",
       "      <td>Aguada</td>\n",
       "      <td>PR</td>\n",
       "    </tr>\n",
       "    <tr>\n",
       "      <th>4</th>\n",
       "      <td>603</td>\n",
       "      <td>Aguadilla</td>\n",
       "      <td>PR</td>\n",
       "    </tr>\n",
       "  </tbody>\n",
       "</table>\n",
       "</div>"
      ],
      "text/plain": [
       "  zip_code    zip_city zip_state\n",
       "0      501  Holtsville        NY\n",
       "1      544  Holtsville        NY\n",
       "2      601    Adjuntas        PR\n",
       "3      602      Aguada        PR\n",
       "4      603   Aguadilla        PR"
      ]
     },
     "execution_count": 3,
     "metadata": {},
     "output_type": "execute_result"
    }
   ],
   "source": [
    "#External zipcode data\n",
    "df_zip = pd.read_csv('zip.csv', encoding='latin_1', usecols=['zip','city','state'])\n",
    "df_zip.columns = ['zip_code','zip_city','zip_state']     #Rename columns\n",
    "df_zip['zip_code'] = df_zip['zip_code'].astype(str)      #Change datatype for zip_code column\n",
    "df_zip.head()"
   ]
  },
  {
   "cell_type": "code",
   "execution_count": 4,
   "metadata": {},
   "outputs": [],
   "source": [
    "# Bikeshare Stations\n",
    "df_bike_stns = pd.read_csv(\"bike_stn.csv\")"
   ]
  },
  {
   "cell_type": "code",
   "execution_count": 5,
   "metadata": {},
   "outputs": [],
   "source": [
    "# Bikeshare Status Summaries\n",
    "df_bike_sts_mth = pd.read_csv(\"bike_sts_mth.csv\")\n",
    "df_bike_sts_day = pd.read_csv(\"bike_sts_day.csv\")\n",
    "df_bike_sts_wkday = pd.read_csv(\"bike_sts_wkday.csv\")\n",
    "df_bike_sts_hr = pd.read_csv(\"bike_sts_hr.csv\")\n",
    "\n",
    "#Add column for sorting day of week column\n",
    "df_bike_sts_wkday['day_srt']=df_bike_sts_wkday.clndr_day_of_week.apply(lambda x: weekdays[x])"
   ]
  },
  {
   "cell_type": "code",
   "execution_count": 6,
   "metadata": {},
   "outputs": [],
   "source": [
    "# Combine Trip Details data into a single dataframe\n",
    "df_trp_dtls = pd.read_csv(\"bike_trp_dtls_jan.csv\").append(pd.read_csv(\"bike_trp_dtls_feb.csv\"), ignore_index=True)\n",
    "df_trp_dtls = df_trp_dtls.append(pd.read_csv(\"bike_trp_dtls_mar.csv\"), ignore_index=True)\n",
    "df_trp_dtls = df_trp_dtls.append(pd.read_csv(\"bike_trp_dtls_apr.csv\"), ignore_index=True)\n",
    "df_trp_dtls = df_trp_dtls.append(pd.read_csv(\"bike_trp_dtls_may.csv\"), ignore_index=True)\n",
    "df_trp_dtls = df_trp_dtls.append(pd.read_csv(\"bike_trp_dtls_jun.csv\"), ignore_index=True)\n",
    "df_trp_dtls = df_trp_dtls.append(pd.read_csv(\"bike_trp_dtls_jul.csv\"), ignore_index=True)\n",
    "df_trp_dtls = df_trp_dtls.append(pd.read_csv(\"bike_trp_dtls_aug.csv\"), ignore_index=True)\n",
    "df_trp_dtls = df_trp_dtls.append(pd.read_csv(\"bike_trp_dtls_sep.csv\"), ignore_index=True)\n",
    "df_trp_dtls = df_trp_dtls.append(pd.read_csv(\"bike_trp_dtls_oct.csv\"), ignore_index=True)\n",
    "df_trp_dtls = df_trp_dtls.append(pd.read_csv(\"bike_trp_dtls_nov.csv\"), ignore_index=True)\n",
    "df_trp_dtls = df_trp_dtls.append(pd.read_csv(\"bike_trp_dtls_dec.csv\"), ignore_index=True)"
   ]
  },
  {
   "cell_type": "code",
   "execution_count": 7,
   "metadata": {},
   "outputs": [],
   "source": [
    "#Add a column for duration in minutes\n",
    "df_trp_dtls['duration_min'] = df_trp_dtls.duration_sec/60\n",
    "#Add a constant column for ease in calculations\n",
    "df_trp_dtls['rec_ct'] = 1"
   ]
  },
  {
   "cell_type": "code",
   "execution_count": 8,
   "metadata": {},
   "outputs": [],
   "source": [
    "#Merge external zip code data with trip details\n",
    "df_trp_dtls['zip_code'] = df_trp_dtls['zip_code'].astype(str)\n",
    "df_trp_dtls = df_trp_dtls.merge(df_zip, how='left')"
   ]
  },
  {
   "cell_type": "code",
   "execution_count": 9,
   "metadata": {},
   "outputs": [],
   "source": [
    "#Add columns to flag if city and state for the zip are San Francisco and California respectively\n",
    "df_trp_dtls['local_city'] = df_trp_dtls['zip_city'].apply(lambda x: 1 if x=='San Francisco' else 0)\n",
    "df_trp_dtls['local_state'] = df_trp_dtls['zip_state'].apply(lambda x: 1 if x=='CA' else 0)\n",
    "\n",
    "#Add sorting column for df_bike_sts_wkday\n",
    "df_trp_dtls['day_srt']=df_trp_dtls.trip_day_of_week.apply(lambda x: weekdays[x])"
   ]
  },
  {
   "cell_type": "markdown",
   "metadata": {},
   "source": [
    "## Exploratory Data Analysis"
   ]
  },
  {
   "cell_type": "markdown",
   "metadata": {},
   "source": [
    "### Bikeshare Stations"
   ]
  },
  {
   "cell_type": "code",
   "execution_count": 10,
   "metadata": {},
   "outputs": [
    {
     "data": {
      "text/html": [
       "<div>\n",
       "<style scoped>\n",
       "    .dataframe tbody tr th:only-of-type {\n",
       "        vertical-align: middle;\n",
       "    }\n",
       "\n",
       "    .dataframe tbody tr th {\n",
       "        vertical-align: top;\n",
       "    }\n",
       "\n",
       "    .dataframe thead th {\n",
       "        text-align: right;\n",
       "    }\n",
       "</style>\n",
       "<table border=\"1\" class=\"dataframe\">\n",
       "  <thead>\n",
       "    <tr style=\"text-align: right;\">\n",
       "      <th></th>\n",
       "      <th>station_id</th>\n",
       "      <th>name</th>\n",
       "      <th>latitude</th>\n",
       "      <th>longitude</th>\n",
       "      <th>dockcount</th>\n",
       "      <th>landmark</th>\n",
       "      <th>installation_date</th>\n",
       "    </tr>\n",
       "  </thead>\n",
       "  <tbody>\n",
       "    <tr>\n",
       "      <th>0</th>\n",
       "      <td>4</td>\n",
       "      <td>Santa Clara at Almaden</td>\n",
       "      <td>37.333988</td>\n",
       "      <td>-121.894902</td>\n",
       "      <td>11</td>\n",
       "      <td>San Jose</td>\n",
       "      <td>2013-08-06</td>\n",
       "    </tr>\n",
       "    <tr>\n",
       "      <th>1</th>\n",
       "      <td>84</td>\n",
       "      <td>Ryland Park</td>\n",
       "      <td>37.342725</td>\n",
       "      <td>-121.895617</td>\n",
       "      <td>15</td>\n",
       "      <td>San Jose</td>\n",
       "      <td>2014-04-09</td>\n",
       "    </tr>\n",
       "    <tr>\n",
       "      <th>2</th>\n",
       "      <td>8</td>\n",
       "      <td>San Salvador at 1st</td>\n",
       "      <td>37.330165</td>\n",
       "      <td>-121.885831</td>\n",
       "      <td>15</td>\n",
       "      <td>San Jose</td>\n",
       "      <td>2013-08-05</td>\n",
       "    </tr>\n",
       "    <tr>\n",
       "      <th>3</th>\n",
       "      <td>9</td>\n",
       "      <td>Japantown</td>\n",
       "      <td>37.348742</td>\n",
       "      <td>-121.894715</td>\n",
       "      <td>15</td>\n",
       "      <td>San Jose</td>\n",
       "      <td>2013-08-05</td>\n",
       "    </tr>\n",
       "    <tr>\n",
       "      <th>4</th>\n",
       "      <td>3</td>\n",
       "      <td>San Jose Civic Center</td>\n",
       "      <td>37.330698</td>\n",
       "      <td>-121.888979</td>\n",
       "      <td>15</td>\n",
       "      <td>San Jose</td>\n",
       "      <td>2013-08-05</td>\n",
       "    </tr>\n",
       "  </tbody>\n",
       "</table>\n",
       "</div>"
      ],
      "text/plain": [
       "   station_id                    name   latitude   longitude  dockcount  \\\n",
       "0           4  Santa Clara at Almaden  37.333988 -121.894902         11   \n",
       "1          84             Ryland Park  37.342725 -121.895617         15   \n",
       "2           8     San Salvador at 1st  37.330165 -121.885831         15   \n",
       "3           9               Japantown  37.348742 -121.894715         15   \n",
       "4           3   San Jose Civic Center  37.330698 -121.888979         15   \n",
       "\n",
       "   landmark installation_date  \n",
       "0  San Jose        2013-08-06  \n",
       "1  San Jose        2014-04-09  \n",
       "2  San Jose        2013-08-05  \n",
       "3  San Jose        2013-08-05  \n",
       "4  San Jose        2013-08-05  "
      ]
     },
     "execution_count": 10,
     "metadata": {},
     "output_type": "execute_result"
    }
   ],
   "source": [
    "df_bike_stns.head()"
   ]
  },
  {
   "cell_type": "code",
   "execution_count": 11,
   "metadata": {},
   "outputs": [
    {
     "data": {
      "text/html": [
       "<div>\n",
       "<style scoped>\n",
       "    .dataframe tbody tr th:only-of-type {\n",
       "        vertical-align: middle;\n",
       "    }\n",
       "\n",
       "    .dataframe tbody tr th {\n",
       "        vertical-align: top;\n",
       "    }\n",
       "\n",
       "    .dataframe thead th {\n",
       "        text-align: right;\n",
       "    }\n",
       "</style>\n",
       "<table border=\"1\" class=\"dataframe\">\n",
       "  <thead>\n",
       "    <tr style=\"text-align: right;\">\n",
       "      <th></th>\n",
       "      <th>station_id</th>\n",
       "      <th>dockcount</th>\n",
       "    </tr>\n",
       "  </thead>\n",
       "  <tbody>\n",
       "    <tr>\n",
       "      <th>count</th>\n",
       "      <td>74.000000</td>\n",
       "      <td>74.000000</td>\n",
       "    </tr>\n",
       "    <tr>\n",
       "      <th>mean</th>\n",
       "      <td>45.513514</td>\n",
       "      <td>18.162162</td>\n",
       "    </tr>\n",
       "    <tr>\n",
       "      <th>std</th>\n",
       "      <td>25.770985</td>\n",
       "      <td>4.634673</td>\n",
       "    </tr>\n",
       "    <tr>\n",
       "      <th>min</th>\n",
       "      <td>2.000000</td>\n",
       "      <td>11.000000</td>\n",
       "    </tr>\n",
       "    <tr>\n",
       "      <th>25%</th>\n",
       "      <td>25.250000</td>\n",
       "      <td>15.000000</td>\n",
       "    </tr>\n",
       "    <tr>\n",
       "      <th>50%</th>\n",
       "      <td>46.500000</td>\n",
       "      <td>17.000000</td>\n",
       "    </tr>\n",
       "    <tr>\n",
       "      <th>75%</th>\n",
       "      <td>66.750000</td>\n",
       "      <td>19.000000</td>\n",
       "    </tr>\n",
       "    <tr>\n",
       "      <th>max</th>\n",
       "      <td>91.000000</td>\n",
       "      <td>35.000000</td>\n",
       "    </tr>\n",
       "  </tbody>\n",
       "</table>\n",
       "</div>"
      ],
      "text/plain": [
       "       station_id  dockcount\n",
       "count   74.000000  74.000000\n",
       "mean    45.513514  18.162162\n",
       "std     25.770985   4.634673\n",
       "min      2.000000  11.000000\n",
       "25%     25.250000  15.000000\n",
       "50%     46.500000  17.000000\n",
       "75%     66.750000  19.000000\n",
       "max     91.000000  35.000000"
      ]
     },
     "execution_count": 11,
     "metadata": {},
     "output_type": "execute_result"
    }
   ],
   "source": [
    "df_bike_stns[['station_id', 'dockcount']].describe()"
   ]
  },
  {
   "cell_type": "markdown",
   "metadata": {},
   "source": [
    "This dataset has data for 74 stations. There is an average of 18 docks per station. The maximum number of docks is 35 and the minimum is 11."
   ]
  },
  {
   "cell_type": "code",
   "execution_count": 12,
   "metadata": {},
   "outputs": [
    {
     "data": {
      "text/html": [
       "<div>\n",
       "<style scoped>\n",
       "    .dataframe tbody tr th:only-of-type {\n",
       "        vertical-align: middle;\n",
       "    }\n",
       "\n",
       "    .dataframe tbody tr th {\n",
       "        vertical-align: top;\n",
       "    }\n",
       "\n",
       "    .dataframe thead th {\n",
       "        text-align: right;\n",
       "    }\n",
       "</style>\n",
       "<table border=\"1\" class=\"dataframe\">\n",
       "  <thead>\n",
       "    <tr style=\"text-align: right;\">\n",
       "      <th></th>\n",
       "      <th>max</th>\n",
       "      <th>min</th>\n",
       "    </tr>\n",
       "    <tr>\n",
       "      <th>landmark</th>\n",
       "      <th></th>\n",
       "      <th></th>\n",
       "    </tr>\n",
       "  </thead>\n",
       "  <tbody>\n",
       "    <tr>\n",
       "      <th>Mountain View</th>\n",
       "      <td>2015-09-28</td>\n",
       "      <td>2013-08-15</td>\n",
       "    </tr>\n",
       "    <tr>\n",
       "      <th>Palo Alto</th>\n",
       "      <td>2013-08-15</td>\n",
       "      <td>2013-08-14</td>\n",
       "    </tr>\n",
       "    <tr>\n",
       "      <th>Redwood City</th>\n",
       "      <td>2014-02-20</td>\n",
       "      <td>2013-08-12</td>\n",
       "    </tr>\n",
       "    <tr>\n",
       "      <th>San Francisco</th>\n",
       "      <td>2016-08-04</td>\n",
       "      <td>2013-08-19</td>\n",
       "    </tr>\n",
       "    <tr>\n",
       "      <th>San Jose</th>\n",
       "      <td>2016-06-05</td>\n",
       "      <td>2013-08-05</td>\n",
       "    </tr>\n",
       "  </tbody>\n",
       "</table>\n",
       "</div>"
      ],
      "text/plain": [
       "                      max         min\n",
       "landmark                             \n",
       "Mountain View  2015-09-28  2013-08-15\n",
       "Palo Alto      2013-08-15  2013-08-14\n",
       "Redwood City   2014-02-20  2013-08-12\n",
       "San Francisco  2016-08-04  2013-08-19\n",
       "San Jose       2016-06-05  2013-08-05"
      ]
     },
     "execution_count": 12,
     "metadata": {},
     "output_type": "execute_result"
    }
   ],
   "source": [
    "df_bike_stns.pivot_table(index='landmark', values='installation_date', aggfunc=(min, max))"
   ]
  },
  {
   "cell_type": "markdown",
   "metadata": {},
   "source": [
    "An examination of the installation dates for the stations shows that the earliest stations were installed in August 2013 for all the cities. The latest installation was in San Francisco in August 2016. There hasn't been any new installations in Palo Alto since August 2013, the month when the first station was installed there. Mountain View and Redwood City also didn't have any installations since September 2015 and February 2014 respectively."
   ]
  },
  {
   "cell_type": "code",
   "execution_count": 13,
   "metadata": {},
   "outputs": [
    {
     "name": "stdout",
     "output_type": "stream",
     "text": [
      "Max number of docks amongst all stations: dockcount    35\n",
      "dtype: int64\n",
      "Min number of docks amongst all stations: dockcount    11\n",
      "dtype: int64\n"
     ]
    }
   ],
   "source": [
    "print(\"Max number of docks amongst all stations: {}\"\n",
    "      .format(df_bike_stns.groupby(['name']).agg({'dockcount':sum}).max()))\n",
    "print(\"Min number of docks amongst all stations: {}\"\n",
    "      .format(df_bike_stns.groupby(['name']).agg({'dockcount':sum}).min()))"
   ]
  },
  {
   "cell_type": "code",
   "execution_count": 14,
   "metadata": {},
   "outputs": [],
   "source": [
    "#Create dataframe with station id and names for use as lookup\n",
    "df_stns = df_bike_stns[['station_id','name']]"
   ]
  },
  {
   "cell_type": "markdown",
   "metadata": {},
   "source": [
    "**Top 5 and Bottom 5 Stations by Dockcount**"
   ]
  },
  {
   "cell_type": "code",
   "execution_count": 15,
   "metadata": {},
   "outputs": [],
   "source": [
    "df_stn_dock_ct_top5 = df_bike_stns.groupby(['name']).agg({'dockcount':sum})\\\n",
    "                                    .sort_values(\"dockcount\",ascending=False).head()\n",
    "df_stn_dock_ct_btm5 = df_bike_stns.groupby(['name']).agg({'dockcount':sum})\\\n",
    "                                    .sort_values(\"dockcount\").head()"
   ]
  },
  {
   "cell_type": "code",
   "execution_count": 16,
   "metadata": {},
   "outputs": [
    {
     "data": {
      "image/png": "[encoded data removed]",
      "text/plain": [
       "<Figure size 1080x216 with 2 Axes>"
      ]
     },
     "metadata": {},
     "output_type": "display_data"
    }
   ],
   "source": [
    "fig1 = plt.figure(figsize=(15,3))\n",
    "plt.subplot(121, facecolor='white')\n",
    "plt.title(\"Top 5 Stations by DockCount\")\n",
    "plt.xticks(rotation=45, ha='right')\n",
    "plt.bar(df_stn_dock_ct_top5.index, df_stn_dock_ct_top5.dockcount, color='cadetblue')\n",
    "plt.subplot(122, facecolor='white')\n",
    "plt.title(\"Bottom 5 Stations by DockCount\")\n",
    "plt.xticks(rotation=45, ha='right')\n",
    "plt.bar(df_stn_dock_ct_btm5.index, df_stn_dock_ct_btm5.dockcount, color='seagreen')\n",
    "plt.show()"
   ]
  },
  {
   "cell_type": "markdown",
   "metadata": {},
   "source": [
    "**Number of Stations and Docks by City**"
   ]
  },
  {
   "cell_type": "code",
   "execution_count": 17,
   "metadata": {},
   "outputs": [],
   "source": [
    "df_bike_city_stn_ct = pd.DataFrame(df_bike_stns['landmark'].value_counts())\n",
    "df_bike_city_dock_ct = df_bike_stns.groupby(['landmark']).agg({'dockcount':sum})"
   ]
  },
  {
   "cell_type": "code",
   "execution_count": 18,
   "metadata": {},
   "outputs": [
    {
     "data": {
      "image/png": "[encoded data removed]",
      "text/plain": [
       "<Figure size 1080x216 with 2 Axes>"
      ]
     },
     "metadata": {},
     "output_type": "display_data"
    }
   ],
   "source": [
    "fig2 = plt.figure(figsize=(15,3))\n",
    "plt.subplot(121, facecolor='white')\n",
    "plt.title(\"Number of Stations by City\")\n",
    "plt.bar(df_bike_city_stn_ct.index, df_bike_city_stn_ct.landmark, color='cadetblue')\n",
    "plt.subplot(122, facecolor='white')\n",
    "plt.title(\"Number of Docks by City\")\n",
    "plt.bar(df_bike_city_dock_ct.index, df_bike_city_dock_ct.dockcount, color='seagreen')\n",
    "plt.show()"
   ]
  },
  {
   "cell_type": "markdown",
   "metadata": {},
   "source": [
    "### Bikeshare Station Status"
   ]
  },
  {
   "cell_type": "markdown",
   "metadata": {},
   "source": [
    "Next I analyzed the bikeshare status data to understand the nature of the availability of bikes and docks for various stations by month, day, day of week and hour. This should give an idea of the demand of bikes for the various stations by these date and time splits."
   ]
  },
  {
   "cell_type": "code",
   "execution_count": 19,
   "metadata": {},
   "outputs": [],
   "source": [
    "#Analyze monthly summary\n",
    "df_bike_sts_mth = df_bike_sts_mth.merge(df_stns, how='left')"
   ]
  },
  {
   "cell_type": "code",
   "execution_count": 20,
   "metadata": {},
   "outputs": [
    {
     "data": {
      "text/html": [
       "<div>\n",
       "<style scoped>\n",
       "    .dataframe tbody tr th:only-of-type {\n",
       "        vertical-align: middle;\n",
       "    }\n",
       "\n",
       "    .dataframe tbody tr th {\n",
       "        vertical-align: top;\n",
       "    }\n",
       "\n",
       "    .dataframe thead tr th {\n",
       "        text-align: left;\n",
       "    }\n",
       "\n",
       "    .dataframe thead tr:last-of-type th {\n",
       "        text-align: right;\n",
       "    }\n",
       "</style>\n",
       "<table border=\"1\" class=\"dataframe\">\n",
       "  <thead>\n",
       "    <tr>\n",
       "      <th></th>\n",
       "      <th>clndr_month_num</th>\n",
       "      <th>2</th>\n",
       "      <th>4</th>\n",
       "      <th>5</th>\n",
       "      <th>6</th>\n",
       "      <th>8</th>\n",
       "      <th>10</th>\n",
       "      <th>11</th>\n",
       "    </tr>\n",
       "    <tr>\n",
       "      <th></th>\n",
       "      <th>clndr_month</th>\n",
       "      <th>Feb</th>\n",
       "      <th>Apr</th>\n",
       "      <th>May</th>\n",
       "      <th>Jun</th>\n",
       "      <th>Aug</th>\n",
       "      <th>Oct</th>\n",
       "      <th>Nov</th>\n",
       "    </tr>\n",
       "    <tr>\n",
       "      <th>station_id</th>\n",
       "      <th>name</th>\n",
       "      <th></th>\n",
       "      <th></th>\n",
       "      <th></th>\n",
       "      <th></th>\n",
       "      <th></th>\n",
       "      <th></th>\n",
       "      <th></th>\n",
       "    </tr>\n",
       "  </thead>\n",
       "  <tbody>\n",
       "    <tr>\n",
       "      <th>22</th>\n",
       "      <th>Redwood City Caltrain Station</th>\n",
       "      <td>22.22</td>\n",
       "      <td>22.22</td>\n",
       "      <td></td>\n",
       "      <td></td>\n",
       "      <td></td>\n",
       "      <td></td>\n",
       "      <td></td>\n",
       "    </tr>\n",
       "    <tr>\n",
       "      <th>23</th>\n",
       "      <th>San Mateo County Center</th>\n",
       "      <td></td>\n",
       "      <td></td>\n",
       "      <td>26.67</td>\n",
       "      <td>26.67</td>\n",
       "      <td></td>\n",
       "      <td></td>\n",
       "      <td></td>\n",
       "    </tr>\n",
       "    <tr>\n",
       "      <th>24</th>\n",
       "      <th>Redwood City Public Library</th>\n",
       "      <td>26.67</td>\n",
       "      <td></td>\n",
       "      <td></td>\n",
       "      <td></td>\n",
       "      <td></td>\n",
       "      <td></td>\n",
       "      <td></td>\n",
       "    </tr>\n",
       "    <tr>\n",
       "      <th>36</th>\n",
       "      <th>California Ave Caltrain Station</th>\n",
       "      <td></td>\n",
       "      <td></td>\n",
       "      <td></td>\n",
       "      <td></td>\n",
       "      <td></td>\n",
       "      <td>33.33</td>\n",
       "      <td></td>\n",
       "    </tr>\n",
       "    <tr>\n",
       "      <th>38</th>\n",
       "      <th>Park at Olive</th>\n",
       "      <td></td>\n",
       "      <td></td>\n",
       "      <td></td>\n",
       "      <td></td>\n",
       "      <td>26.67</td>\n",
       "      <td></td>\n",
       "      <td></td>\n",
       "    </tr>\n",
       "    <tr>\n",
       "      <th>83</th>\n",
       "      <th>Mezes Park</th>\n",
       "      <td></td>\n",
       "      <td></td>\n",
       "      <td></td>\n",
       "      <td></td>\n",
       "      <td></td>\n",
       "      <td></td>\n",
       "      <td>26.67</td>\n",
       "    </tr>\n",
       "  </tbody>\n",
       "</table>\n",
       "</div>"
      ],
      "text/plain": [
       "clndr_month_num                                2      4      5      6      8   \\\n",
       "clndr_month                                   Feb    Apr    May    Jun    Aug   \n",
       "station_id name                                                                 \n",
       "22         Redwood City Caltrain Station    22.22  22.22                        \n",
       "23         San Mateo County Center                        26.67  26.67          \n",
       "24         Redwood City Public Library      26.67                               \n",
       "36         California Ave Caltrain Station                                      \n",
       "38         Park at Olive                                                26.67   \n",
       "83         Mezes Park                                                           \n",
       "\n",
       "clndr_month_num                                10     11  \n",
       "clndr_month                                   Oct    Nov  \n",
       "station_id name                                           \n",
       "22         Redwood City Caltrain Station                  \n",
       "23         San Mateo County Center                        \n",
       "24         Redwood City Public Library                    \n",
       "36         California Ave Caltrain Station  33.33         \n",
       "38         Park at Olive                                  \n",
       "83         Mezes Park                              26.67  "
      ]
     },
     "execution_count": 20,
     "metadata": {},
     "output_type": "execute_result"
    }
   ],
   "source": [
    "#Least popular stations\n",
    "#Find 3 max values for unused_pct for any given month for any given station\n",
    "max_unused_bikes = list(np.sort(df_bike_sts_mth.unused_pct.unique())[-3:])\n",
    "#Find the stations with the least usage for a given month, i.e. the ones matching the unused_pct above\n",
    "df_bike_sts_mth[df_bike_sts_mth.unused_pct.isin(max_unused_bikes)] \\\n",
    "            .pivot_table(index=['station_id','name'], values='unused_pct', columns=['clndr_month_num','clndr_month'], fill_value='')"
   ]
  },
  {
   "cell_type": "markdown",
   "metadata": {},
   "source": [
    "On inspecting the least usage by month, I found that Feb has the least usage for two of the stations. It may be worthwhile to run some promotions for these stations in Feb of each year. It may also be worthwhile to check if there is something specific for the other month and station combinations that results in the least usage."
   ]
  },
  {
   "cell_type": "code",
   "execution_count": 21,
   "metadata": {},
   "outputs": [
    {
     "data": {
      "text/html": [
       "<div>\n",
       "<style scoped>\n",
       "    .dataframe tbody tr th:only-of-type {\n",
       "        vertical-align: middle;\n",
       "    }\n",
       "\n",
       "    .dataframe tbody tr th {\n",
       "        vertical-align: top;\n",
       "    }\n",
       "\n",
       "    .dataframe thead tr th {\n",
       "        text-align: left;\n",
       "    }\n",
       "\n",
       "    .dataframe thead tr:last-of-type th {\n",
       "        text-align: right;\n",
       "    }\n",
       "</style>\n",
       "<table border=\"1\" class=\"dataframe\">\n",
       "  <thead>\n",
       "    <tr>\n",
       "      <th></th>\n",
       "      <th>day_srt</th>\n",
       "      <th>1</th>\n",
       "      <th>2</th>\n",
       "      <th>3</th>\n",
       "      <th>5</th>\n",
       "      <th>6</th>\n",
       "      <th>7</th>\n",
       "    </tr>\n",
       "    <tr>\n",
       "      <th></th>\n",
       "      <th>clndr_day_of_week</th>\n",
       "      <th>Sun</th>\n",
       "      <th>Mon</th>\n",
       "      <th>Tue</th>\n",
       "      <th>Thu</th>\n",
       "      <th>Fri</th>\n",
       "      <th>Sat</th>\n",
       "    </tr>\n",
       "    <tr>\n",
       "      <th>station_id</th>\n",
       "      <th>name</th>\n",
       "      <th></th>\n",
       "      <th></th>\n",
       "      <th></th>\n",
       "      <th></th>\n",
       "      <th></th>\n",
       "      <th></th>\n",
       "    </tr>\n",
       "  </thead>\n",
       "  <tbody>\n",
       "    <tr>\n",
       "      <th>88</th>\n",
       "      <th>5th S. at E. San Salvador St</th>\n",
       "      <td>47.37</td>\n",
       "      <td>47.37</td>\n",
       "      <td>47.37</td>\n",
       "      <td>47.37</td>\n",
       "      <td>47.37</td>\n",
       "      <td>47.37</td>\n",
       "    </tr>\n",
       "    <tr>\n",
       "      <th>89</th>\n",
       "      <th>S. Market st at Park Ave</th>\n",
       "      <td></td>\n",
       "      <td></td>\n",
       "      <td>31.58</td>\n",
       "      <td></td>\n",
       "      <td></td>\n",
       "      <td></td>\n",
       "    </tr>\n",
       "    <tr>\n",
       "      <th>90</th>\n",
       "      <th>5th St at Folsom St</th>\n",
       "      <td>64.52</td>\n",
       "      <td></td>\n",
       "      <td></td>\n",
       "      <td></td>\n",
       "      <td></td>\n",
       "      <td>64.52</td>\n",
       "    </tr>\n",
       "  </tbody>\n",
       "</table>\n",
       "</div>"
      ],
      "text/plain": [
       "day_srt                                      1      2      3      5      6  \\\n",
       "clndr_day_of_week                          Sun    Mon    Tue    Thu    Fri   \n",
       "station_id name                                                              \n",
       "88         5th S. at E. San Salvador St  47.37  47.37  47.37  47.37  47.37   \n",
       "89         S. Market st at Park Ave                    31.58                 \n",
       "90         5th St at Folsom St           64.52                               \n",
       "\n",
       "day_srt                                      7  \n",
       "clndr_day_of_week                          Sat  \n",
       "station_id name                                 \n",
       "88         5th S. at E. San Salvador St  47.37  \n",
       "89         S. Market st at Park Ave             \n",
       "90         5th St at Folsom St           64.52  "
      ]
     },
     "execution_count": 21,
     "metadata": {},
     "output_type": "execute_result"
    }
   ],
   "source": [
    "#Analyze day of week summary\n",
    "df_bike_sts_wkday = df_bike_sts_wkday.merge(df_stns, how='left')\n",
    "#Find 3 max values for unused_pct for any given day of week for any given station\n",
    "max_unused_bikes = list(np.sort(df_bike_sts_wkday.unused_pct.unique())[-3:])\n",
    "#Find the stations with the least usage for a given day of week, i.e. the ones matching the unused_pct above\n",
    "df_bike_sts_wkday[df_bike_sts_wkday.unused_pct.isin(max_unused_bikes)] \\\n",
    "            .pivot_table(index=['station_id','name'], values='unused_pct', columns=['day_srt','clndr_day_of_week'], fill_value='')"
   ]
  },
  {
   "cell_type": "markdown",
   "metadata": {},
   "source": [
    "The station '5th S. at E. San Salvador St' has low usage for all days of the week. '5th St at Folsom St' has less than 40% usage on weekends while 'S. Market st at Park Ave' has very low usage on Tuesdays."
   ]
  },
  {
   "cell_type": "code",
   "execution_count": 22,
   "metadata": {},
   "outputs": [
    {
     "data": {
      "text/html": [
       "<div>\n",
       "<style scoped>\n",
       "    .dataframe tbody tr th:only-of-type {\n",
       "        vertical-align: middle;\n",
       "    }\n",
       "\n",
       "    .dataframe tbody tr th {\n",
       "        vertical-align: top;\n",
       "    }\n",
       "\n",
       "    .dataframe thead th {\n",
       "        text-align: right;\n",
       "    }\n",
       "</style>\n",
       "<table border=\"1\" class=\"dataframe\">\n",
       "  <thead>\n",
       "    <tr style=\"text-align: right;\">\n",
       "      <th></th>\n",
       "      <th>hour_of_day</th>\n",
       "      <th>0</th>\n",
       "      <th>1</th>\n",
       "      <th>2</th>\n",
       "      <th>3</th>\n",
       "      <th>4</th>\n",
       "      <th>5</th>\n",
       "      <th>6</th>\n",
       "      <th>18</th>\n",
       "      <th>19</th>\n",
       "    </tr>\n",
       "    <tr>\n",
       "      <th>station_id</th>\n",
       "      <th>name</th>\n",
       "      <th></th>\n",
       "      <th></th>\n",
       "      <th></th>\n",
       "      <th></th>\n",
       "      <th></th>\n",
       "      <th></th>\n",
       "      <th></th>\n",
       "      <th></th>\n",
       "      <th></th>\n",
       "    </tr>\n",
       "  </thead>\n",
       "  <tbody>\n",
       "    <tr>\n",
       "      <th>88</th>\n",
       "      <th>5th S. at E. San Salvador St</th>\n",
       "      <td>47.37</td>\n",
       "      <td>47.37</td>\n",
       "      <td>47.37</td>\n",
       "      <td>47.37</td>\n",
       "      <td>47.37</td>\n",
       "      <td>47.37</td>\n",
       "      <td>47.37</td>\n",
       "      <td></td>\n",
       "      <td></td>\n",
       "    </tr>\n",
       "    <tr>\n",
       "      <th>90</th>\n",
       "      <th>5th St at Folsom St</th>\n",
       "      <td></td>\n",
       "      <td></td>\n",
       "      <td></td>\n",
       "      <td></td>\n",
       "      <td></td>\n",
       "      <td></td>\n",
       "      <td></td>\n",
       "      <td>45.16</td>\n",
       "      <td>51.61</td>\n",
       "    </tr>\n",
       "  </tbody>\n",
       "</table>\n",
       "</div>"
      ],
      "text/plain": [
       "hour_of_day                                 0      1      2      3      4   \\\n",
       "station_id name                                                              \n",
       "88         5th S. at E. San Salvador St  47.37  47.37  47.37  47.37  47.37   \n",
       "90         5th St at Folsom St                                               \n",
       "\n",
       "hour_of_day                                 5      6      18     19  \n",
       "station_id name                                                      \n",
       "88         5th S. at E. San Salvador St  47.37  47.37                \n",
       "90         5th St at Folsom St                         45.16  51.61  "
      ]
     },
     "execution_count": 22,
     "metadata": {},
     "output_type": "execute_result"
    }
   ],
   "source": [
    "#Analyze hour of day summary\n",
    "df_bike_sts_hr = df_bike_sts_hr.merge(df_stns, how='left')\n",
    "#Find 3 max values for unused_pct for any given hour of day for any given station\n",
    "max_unused_bikes = list(np.sort(df_bike_sts_hr.unused_pct.unique())[-3:])\n",
    "#Find the stations with the least usage for a given hour of day, i.e. the ones matching the unused_pct above\n",
    "df_bike_sts_hr[df_bike_sts_hr.unused_pct.isin(max_unused_bikes)] \\\n",
    "            .pivot_table(index=['station_id','name'], values='unused_pct', columns='hour_of_day', fill_value='')"
   ]
  },
  {
   "cell_type": "markdown",
   "metadata": {},
   "source": [
    "The station at '5th S. at E. San Salvador St' has the least usage during the early hours of the day while '5th St at Folsom St' is the least used station a couple of hours in the evening."
   ]
  },
  {
   "cell_type": "markdown",
   "metadata": {},
   "source": [
    "### Bikeshare Trips"
   ]
  },
  {
   "cell_type": "code",
   "execution_count": 23,
   "metadata": {},
   "outputs": [
    {
     "data": {
      "text/html": [
       "<div>\n",
       "<style scoped>\n",
       "    .dataframe tbody tr th:only-of-type {\n",
       "        vertical-align: middle;\n",
       "    }\n",
       "\n",
       "    .dataframe tbody tr th {\n",
       "        vertical-align: top;\n",
       "    }\n",
       "\n",
       "    .dataframe thead th {\n",
       "        text-align: right;\n",
       "    }\n",
       "</style>\n",
       "<table border=\"1\" class=\"dataframe\">\n",
       "  <thead>\n",
       "    <tr style=\"text-align: right;\">\n",
       "      <th></th>\n",
       "      <th>trip_id</th>\n",
       "      <th>start_datetime</th>\n",
       "      <th>start_station_name</th>\n",
       "      <th>start_station_id</th>\n",
       "      <th>end_datetime</th>\n",
       "      <th>end_station_name</th>\n",
       "      <th>end_station_id</th>\n",
       "      <th>zip_code</th>\n",
       "      <th>subscriber_type</th>\n",
       "      <th>start_date</th>\n",
       "      <th>...</th>\n",
       "      <th>end_time</th>\n",
       "      <th>trip_type</th>\n",
       "      <th>trip_time</th>\n",
       "      <th>duration_min</th>\n",
       "      <th>rec_ct</th>\n",
       "      <th>zip_city</th>\n",
       "      <th>zip_state</th>\n",
       "      <th>local_city</th>\n",
       "      <th>local_state</th>\n",
       "      <th>day_srt</th>\n",
       "    </tr>\n",
       "  </thead>\n",
       "  <tbody>\n",
       "    <tr>\n",
       "      <th>0</th>\n",
       "      <td>140012</td>\n",
       "      <td>2014-01-01 23:26:00</td>\n",
       "      <td>St James Park</td>\n",
       "      <td>13</td>\n",
       "      <td>2014-01-02 00:24:00</td>\n",
       "      <td>St James Park</td>\n",
       "      <td>13</td>\n",
       "      <td>95051</td>\n",
       "      <td>Customer</td>\n",
       "      <td>01/01/14</td>\n",
       "      <td>...</td>\n",
       "      <td>00:24:00</td>\n",
       "      <td>RoundTrip</td>\n",
       "      <td>Night</td>\n",
       "      <td>58.916667</td>\n",
       "      <td>1</td>\n",
       "      <td>Santa Clara</td>\n",
       "      <td>CA</td>\n",
       "      <td>0</td>\n",
       "      <td>1</td>\n",
       "      <td>4</td>\n",
       "    </tr>\n",
       "    <tr>\n",
       "      <th>1</th>\n",
       "      <td>140013</td>\n",
       "      <td>2014-01-01 23:26:00</td>\n",
       "      <td>St James Park</td>\n",
       "      <td>13</td>\n",
       "      <td>2014-01-02 00:24:00</td>\n",
       "      <td>St James Park</td>\n",
       "      <td>13</td>\n",
       "      <td>nan</td>\n",
       "      <td>Customer</td>\n",
       "      <td>01/01/14</td>\n",
       "      <td>...</td>\n",
       "      <td>00:24:00</td>\n",
       "      <td>RoundTrip</td>\n",
       "      <td>Night</td>\n",
       "      <td>58.650000</td>\n",
       "      <td>1</td>\n",
       "      <td>NaN</td>\n",
       "      <td>NaN</td>\n",
       "      <td>0</td>\n",
       "      <td>0</td>\n",
       "      <td>4</td>\n",
       "    </tr>\n",
       "    <tr>\n",
       "      <th>2</th>\n",
       "      <td>139589</td>\n",
       "      <td>2014-01-01 02:21:00</td>\n",
       "      <td>Howard at 2nd</td>\n",
       "      <td>63</td>\n",
       "      <td>2014-01-01 16:51:00</td>\n",
       "      <td>2nd at Townsend</td>\n",
       "      <td>61</td>\n",
       "      <td>94107</td>\n",
       "      <td>Customer</td>\n",
       "      <td>01/01/14</td>\n",
       "      <td>...</td>\n",
       "      <td>16:51:00</td>\n",
       "      <td>OneWayTrip</td>\n",
       "      <td>Night</td>\n",
       "      <td>870.383333</td>\n",
       "      <td>1</td>\n",
       "      <td>San Francisco</td>\n",
       "      <td>CA</td>\n",
       "      <td>1</td>\n",
       "      <td>1</td>\n",
       "      <td>4</td>\n",
       "    </tr>\n",
       "    <tr>\n",
       "      <th>3</th>\n",
       "      <td>139588</td>\n",
       "      <td>2014-01-01 02:18:00</td>\n",
       "      <td>Howard at 2nd</td>\n",
       "      <td>63</td>\n",
       "      <td>2014-01-01 16:51:00</td>\n",
       "      <td>2nd at Townsend</td>\n",
       "      <td>61</td>\n",
       "      <td>94107</td>\n",
       "      <td>Customer</td>\n",
       "      <td>01/01/14</td>\n",
       "      <td>...</td>\n",
       "      <td>16:51:00</td>\n",
       "      <td>OneWayTrip</td>\n",
       "      <td>Night</td>\n",
       "      <td>873.250000</td>\n",
       "      <td>1</td>\n",
       "      <td>San Francisco</td>\n",
       "      <td>CA</td>\n",
       "      <td>1</td>\n",
       "      <td>1</td>\n",
       "      <td>4</td>\n",
       "    </tr>\n",
       "    <tr>\n",
       "      <th>4</th>\n",
       "      <td>139591</td>\n",
       "      <td>2014-01-01 02:24:00</td>\n",
       "      <td>Howard at 2nd</td>\n",
       "      <td>63</td>\n",
       "      <td>2014-01-01 14:14:00</td>\n",
       "      <td>2nd at Townsend</td>\n",
       "      <td>61</td>\n",
       "      <td>94107</td>\n",
       "      <td>Customer</td>\n",
       "      <td>01/01/14</td>\n",
       "      <td>...</td>\n",
       "      <td>14:14:00</td>\n",
       "      <td>OneWayTrip</td>\n",
       "      <td>Night</td>\n",
       "      <td>710.283333</td>\n",
       "      <td>1</td>\n",
       "      <td>San Francisco</td>\n",
       "      <td>CA</td>\n",
       "      <td>1</td>\n",
       "      <td>1</td>\n",
       "      <td>4</td>\n",
       "    </tr>\n",
       "  </tbody>\n",
       "</table>\n",
       "<p>5 rows × 28 columns</p>\n",
       "</div>"
      ],
      "text/plain": [
       "   trip_id       start_datetime start_station_name  start_station_id  \\\n",
       "0   140012  2014-01-01 23:26:00      St James Park                13   \n",
       "1   140013  2014-01-01 23:26:00      St James Park                13   \n",
       "2   139589  2014-01-01 02:21:00      Howard at 2nd                63   \n",
       "3   139588  2014-01-01 02:18:00      Howard at 2nd                63   \n",
       "4   139591  2014-01-01 02:24:00      Howard at 2nd                63   \n",
       "\n",
       "          end_datetime end_station_name  end_station_id zip_code  \\\n",
       "0  2014-01-02 00:24:00    St James Park              13    95051   \n",
       "1  2014-01-02 00:24:00    St James Park              13      nan   \n",
       "2  2014-01-01 16:51:00  2nd at Townsend              61    94107   \n",
       "3  2014-01-01 16:51:00  2nd at Townsend              61    94107   \n",
       "4  2014-01-01 14:14:00  2nd at Townsend              61    94107   \n",
       "\n",
       "  subscriber_type start_date   ...    end_time   trip_type trip_time  \\\n",
       "0        Customer   01/01/14   ...    00:24:00   RoundTrip     Night   \n",
       "1        Customer   01/01/14   ...    00:24:00   RoundTrip     Night   \n",
       "2        Customer   01/01/14   ...    16:51:00  OneWayTrip     Night   \n",
       "3        Customer   01/01/14   ...    16:51:00  OneWayTrip     Night   \n",
       "4        Customer   01/01/14   ...    14:14:00  OneWayTrip     Night   \n",
       "\n",
       "   duration_min  rec_ct       zip_city  zip_state local_city local_state  \\\n",
       "0     58.916667       1    Santa Clara         CA          0           1   \n",
       "1     58.650000       1            NaN        NaN          0           0   \n",
       "2    870.383333       1  San Francisco         CA          1           1   \n",
       "3    873.250000       1  San Francisco         CA          1           1   \n",
       "4    710.283333       1  San Francisco         CA          1           1   \n",
       "\n",
       "  day_srt  \n",
       "0       4  \n",
       "1       4  \n",
       "2       4  \n",
       "3       4  \n",
       "4       4  \n",
       "\n",
       "[5 rows x 28 columns]"
      ]
     },
     "execution_count": 23,
     "metadata": {},
     "output_type": "execute_result"
    }
   ],
   "source": [
    "#Drop the columns that will not be used in the analysis\n",
    "df_trp_dtls.drop(['duration_sec', 'bike_number'], axis=1, inplace=True)\n",
    "df_trp_dtls.head()"
   ]
  },
  {
   "cell_type": "code",
   "execution_count": 24,
   "metadata": {},
   "outputs": [
    {
     "data": {
      "text/html": [
       "<div>\n",
       "<style scoped>\n",
       "    .dataframe tbody tr th:only-of-type {\n",
       "        vertical-align: middle;\n",
       "    }\n",
       "\n",
       "    .dataframe tbody tr th {\n",
       "        vertical-align: top;\n",
       "    }\n",
       "\n",
       "    .dataframe thead th {\n",
       "        text-align: right;\n",
       "    }\n",
       "</style>\n",
       "<table border=\"1\" class=\"dataframe\">\n",
       "  <thead>\n",
       "    <tr style=\"text-align: right;\">\n",
       "      <th></th>\n",
       "      <th>trip_id</th>\n",
       "      <th>start_station_id</th>\n",
       "      <th>end_station_id</th>\n",
       "      <th>trip_year</th>\n",
       "      <th>trip_month_num</th>\n",
       "      <th>trip_day_num</th>\n",
       "      <th>trip_hour</th>\n",
       "      <th>duration_min</th>\n",
       "      <th>rec_ct</th>\n",
       "      <th>local_city</th>\n",
       "      <th>local_state</th>\n",
       "      <th>day_srt</th>\n",
       "    </tr>\n",
       "  </thead>\n",
       "  <tbody>\n",
       "    <tr>\n",
       "      <th>count</th>\n",
       "      <td>9.836480e+05</td>\n",
       "      <td>983648.000000</td>\n",
       "      <td>983648.000000</td>\n",
       "      <td>983648.00000</td>\n",
       "      <td>983648.000000</td>\n",
       "      <td>983648.00000</td>\n",
       "      <td>983648.000000</td>\n",
       "      <td>983648.000000</td>\n",
       "      <td>983648.0</td>\n",
       "      <td>983648.000000</td>\n",
       "      <td>983648.000000</td>\n",
       "      <td>983648.000000</td>\n",
       "    </tr>\n",
       "    <tr>\n",
       "      <th>mean</th>\n",
       "      <td>6.721238e+05</td>\n",
       "      <td>58.121022</td>\n",
       "      <td>58.100089</td>\n",
       "      <td>2014.67776</td>\n",
       "      <td>6.502639</td>\n",
       "      <td>15.68426</td>\n",
       "      <td>13.031849</td>\n",
       "      <td>16.982206</td>\n",
       "      <td>1.0</td>\n",
       "      <td>0.450699</td>\n",
       "      <td>0.915522</td>\n",
       "      <td>3.999283</td>\n",
       "    </tr>\n",
       "    <tr>\n",
       "      <th>std</th>\n",
       "      <td>3.851056e+05</td>\n",
       "      <td>16.841133</td>\n",
       "      <td>16.912386</td>\n",
       "      <td>0.92242</td>\n",
       "      <td>3.268243</td>\n",
       "      <td>8.67432</td>\n",
       "      <td>4.553469</td>\n",
       "      <td>306.947284</td>\n",
       "      <td>0.0</td>\n",
       "      <td>0.497564</td>\n",
       "      <td>0.278104</td>\n",
       "      <td>1.652424</td>\n",
       "    </tr>\n",
       "    <tr>\n",
       "      <th>min</th>\n",
       "      <td>4.069000e+03</td>\n",
       "      <td>2.000000</td>\n",
       "      <td>2.000000</td>\n",
       "      <td>2013.00000</td>\n",
       "      <td>1.000000</td>\n",
       "      <td>1.00000</td>\n",
       "      <td>0.000000</td>\n",
       "      <td>1.000000</td>\n",
       "      <td>1.0</td>\n",
       "      <td>0.000000</td>\n",
       "      <td>0.000000</td>\n",
       "      <td>1.000000</td>\n",
       "    </tr>\n",
       "    <tr>\n",
       "      <th>25%</th>\n",
       "      <td>3.359168e+05</td>\n",
       "      <td>50.000000</td>\n",
       "      <td>50.000000</td>\n",
       "      <td>2014.00000</td>\n",
       "      <td>4.000000</td>\n",
       "      <td>8.00000</td>\n",
       "      <td>9.000000</td>\n",
       "      <td>5.783333</td>\n",
       "      <td>1.0</td>\n",
       "      <td>0.000000</td>\n",
       "      <td>1.000000</td>\n",
       "      <td>3.000000</td>\n",
       "    </tr>\n",
       "    <tr>\n",
       "      <th>50%</th>\n",
       "      <td>6.779755e+05</td>\n",
       "      <td>62.000000</td>\n",
       "      <td>62.000000</td>\n",
       "      <td>2015.00000</td>\n",
       "      <td>7.000000</td>\n",
       "      <td>16.00000</td>\n",
       "      <td>13.000000</td>\n",
       "      <td>8.633333</td>\n",
       "      <td>1.0</td>\n",
       "      <td>0.000000</td>\n",
       "      <td>1.000000</td>\n",
       "      <td>4.000000</td>\n",
       "    </tr>\n",
       "    <tr>\n",
       "      <th>75%</th>\n",
       "      <td>1.001672e+06</td>\n",
       "      <td>70.000000</td>\n",
       "      <td>70.000000</td>\n",
       "      <td>2015.00000</td>\n",
       "      <td>9.000000</td>\n",
       "      <td>23.00000</td>\n",
       "      <td>17.000000</td>\n",
       "      <td>12.466667</td>\n",
       "      <td>1.0</td>\n",
       "      <td>1.000000</td>\n",
       "      <td>1.000000</td>\n",
       "      <td>5.000000</td>\n",
       "    </tr>\n",
       "    <tr>\n",
       "      <th>max</th>\n",
       "      <td>1.338408e+06</td>\n",
       "      <td>91.000000</td>\n",
       "      <td>91.000000</td>\n",
       "      <td>2016.00000</td>\n",
       "      <td>12.000000</td>\n",
       "      <td>31.00000</td>\n",
       "      <td>23.000000</td>\n",
       "      <td>287840.000000</td>\n",
       "      <td>1.0</td>\n",
       "      <td>1.000000</td>\n",
       "      <td>1.000000</td>\n",
       "      <td>7.000000</td>\n",
       "    </tr>\n",
       "  </tbody>\n",
       "</table>\n",
       "</div>"
      ],
      "text/plain": [
       "            trip_id  start_station_id  end_station_id     trip_year  \\\n",
       "count  9.836480e+05     983648.000000   983648.000000  983648.00000   \n",
       "mean   6.721238e+05         58.121022       58.100089    2014.67776   \n",
       "std    3.851056e+05         16.841133       16.912386       0.92242   \n",
       "min    4.069000e+03          2.000000        2.000000    2013.00000   \n",
       "25%    3.359168e+05         50.000000       50.000000    2014.00000   \n",
       "50%    6.779755e+05         62.000000       62.000000    2015.00000   \n",
       "75%    1.001672e+06         70.000000       70.000000    2015.00000   \n",
       "max    1.338408e+06         91.000000       91.000000    2016.00000   \n",
       "\n",
       "       trip_month_num  trip_day_num      trip_hour   duration_min    rec_ct  \\\n",
       "count   983648.000000  983648.00000  983648.000000  983648.000000  983648.0   \n",
       "mean         6.502639      15.68426      13.031849      16.982206       1.0   \n",
       "std          3.268243       8.67432       4.553469     306.947284       0.0   \n",
       "min          1.000000       1.00000       0.000000       1.000000       1.0   \n",
       "25%          4.000000       8.00000       9.000000       5.783333       1.0   \n",
       "50%          7.000000      16.00000      13.000000       8.633333       1.0   \n",
       "75%          9.000000      23.00000      17.000000      12.466667       1.0   \n",
       "max         12.000000      31.00000      23.000000  287840.000000       1.0   \n",
       "\n",
       "          local_city    local_state        day_srt  \n",
       "count  983648.000000  983648.000000  983648.000000  \n",
       "mean        0.450699       0.915522       3.999283  \n",
       "std         0.497564       0.278104       1.652424  \n",
       "min         0.000000       0.000000       1.000000  \n",
       "25%         0.000000       1.000000       3.000000  \n",
       "50%         0.000000       1.000000       4.000000  \n",
       "75%         1.000000       1.000000       5.000000  \n",
       "max         1.000000       1.000000       7.000000  "
      ]
     },
     "execution_count": 24,
     "metadata": {},
     "output_type": "execute_result"
    }
   ],
   "source": [
    "df_trp_dtls.describe()"
   ]
  },
  {
   "cell_type": "markdown",
   "metadata": {},
   "source": [
    "This dataset has data for 983648 trips. The data covers trips from April 2014 to December 2016. The trips in the dataset have a maximum duration of 287840 minutes which is roughly equal to 200 days. So it appears that there is some data issue in the duration values that warrants further investigation. The minimum duration of the trips is around 1 minute and the average duration is about 17 minutes. "
   ]
  },
  {
   "cell_type": "code",
   "execution_count": 25,
   "metadata": {},
   "outputs": [
    {
     "data": {
      "text/html": [
       "<div>\n",
       "<style scoped>\n",
       "    .dataframe tbody tr th:only-of-type {\n",
       "        vertical-align: middle;\n",
       "    }\n",
       "\n",
       "    .dataframe tbody tr th {\n",
       "        vertical-align: top;\n",
       "    }\n",
       "\n",
       "    .dataframe thead th {\n",
       "        text-align: right;\n",
       "    }\n",
       "</style>\n",
       "<table border=\"1\" class=\"dataframe\">\n",
       "  <thead>\n",
       "    <tr style=\"text-align: right;\">\n",
       "      <th></th>\n",
       "      <th>trip_id</th>\n",
       "      <th>start_datetime</th>\n",
       "      <th>start_station_name</th>\n",
       "      <th>start_station_id</th>\n",
       "      <th>end_datetime</th>\n",
       "      <th>end_station_name</th>\n",
       "      <th>end_station_id</th>\n",
       "      <th>zip_code</th>\n",
       "      <th>subscriber_type</th>\n",
       "      <th>start_date</th>\n",
       "      <th>...</th>\n",
       "      <th>end_time</th>\n",
       "      <th>trip_type</th>\n",
       "      <th>trip_time</th>\n",
       "      <th>duration_min</th>\n",
       "      <th>rec_ct</th>\n",
       "      <th>zip_city</th>\n",
       "      <th>zip_state</th>\n",
       "      <th>local_city</th>\n",
       "      <th>local_state</th>\n",
       "      <th>day_srt</th>\n",
       "    </tr>\n",
       "  </thead>\n",
       "  <tbody>\n",
       "    <tr>\n",
       "      <th>926464</th>\n",
       "      <td>568474</td>\n",
       "      <td>2014-12-06 21:59:00</td>\n",
       "      <td>South Van Ness at Market</td>\n",
       "      <td>66</td>\n",
       "      <td>2015-06-24 20:18:00</td>\n",
       "      <td>2nd at Folsom</td>\n",
       "      <td>62</td>\n",
       "      <td>95531</td>\n",
       "      <td>Customer</td>\n",
       "      <td>12/06/14</td>\n",
       "      <td>...</td>\n",
       "      <td>20:18:00</td>\n",
       "      <td>OneWayTrip</td>\n",
       "      <td>Evening</td>\n",
       "      <td>287840.0</td>\n",
       "      <td>1</td>\n",
       "      <td>Crescent City</td>\n",
       "      <td>CA</td>\n",
       "      <td>0</td>\n",
       "      <td>1</td>\n",
       "      <td>7</td>\n",
       "    </tr>\n",
       "  </tbody>\n",
       "</table>\n",
       "<p>1 rows × 28 columns</p>\n",
       "</div>"
      ],
      "text/plain": [
       "        trip_id       start_datetime        start_station_name  \\\n",
       "926464   568474  2014-12-06 21:59:00  South Van Ness at Market   \n",
       "\n",
       "        start_station_id         end_datetime end_station_name  \\\n",
       "926464                66  2015-06-24 20:18:00    2nd at Folsom   \n",
       "\n",
       "        end_station_id zip_code subscriber_type start_date   ...    end_time  \\\n",
       "926464              62    95531        Customer   12/06/14   ...    20:18:00   \n",
       "\n",
       "         trip_type trip_time  duration_min  rec_ct       zip_city  zip_state  \\\n",
       "926464  OneWayTrip   Evening      287840.0       1  Crescent City         CA   \n",
       "\n",
       "       local_city local_state day_srt  \n",
       "926464          0           1       7  \n",
       "\n",
       "[1 rows x 28 columns]"
      ]
     },
     "execution_count": 25,
     "metadata": {},
     "output_type": "execute_result"
    }
   ],
   "source": [
    "df_trp_dtls[df_trp_dtls.duration_min==287840.000000]"
   ]
  },
  {
   "cell_type": "markdown",
   "metadata": {},
   "source": [
    "The record having a trip duration of 287840 minutes is related to a Customer living in Crescent City CA. The trip started in December 2014 from South Van Ness at Market station. The validity of the duration data of this record is questionable and should be omitted from any analysis involving duration."
   ]
  },
  {
   "cell_type": "code",
   "execution_count": 26,
   "metadata": {},
   "outputs": [
    {
     "data": {
      "image/png": "[encoded data removed]",
      "text/plain": [
       "<Figure size 432x288 with 1 Axes>"
      ]
     },
     "metadata": {},
     "output_type": "display_data"
    }
   ],
   "source": [
    "plt.hist(np.log(df_trp_dtls.duration_min), bins=50, facecolor='#9999ff', edgecolor='white')\n",
    "plt.title(\"Histogram of the log of duration in minutes\")\n",
    "plt.show()"
   ]
  },
  {
   "cell_type": "markdown",
   "metadata": {},
   "source": [
    "A plot of the histogram of the log of duration in minutes shows a definite right skew in the data. This shows that bikes are in general used for short trips."
   ]
  },
  {
   "cell_type": "code",
   "execution_count": 27,
   "metadata": {},
   "outputs": [
    {
     "name": "stdout",
     "output_type": "stream",
     "text": [
      "Percent of records with duration within an hour: 97.14\n",
      "Percent of records with duration more than 3 hours: 1.07\n",
      "Percent of records with duration more than a day: 0.03\n",
      "Number of records with duration more than a day: 296\n",
      "Subscriber types for riding bikes with duration more than a day: (array(['Customer', 'Subscriber'], dtype=object), array([248,  48]))\n"
     ]
    }
   ],
   "source": [
    "print(\"Percent of records with duration within an hour: {}\".format(round(100*(df_trp_dtls[df_trp_dtls.duration_min < 60]\n",
    "                                                                                 .trip_id.count()/df_trp_dtls.trip_id.count()),2)))\n",
    "print(\"Percent of records with duration more than 3 hours: {}\".format(round(100*(df_trp_dtls[df_trp_dtls.duration_min >= 180]\n",
    "                                                                                 .trip_id.count()/df_trp_dtls.trip_id.count()),2)))\n",
    "print(\"Percent of records with duration more than a day: {}\".format(round(100*(df_trp_dtls[df_trp_dtls.duration_min >= 1440]\n",
    "                                                                               .trip_id.count()/df_trp_dtls.trip_id.count()),2)))\n",
    "print(\"Number of records with duration more than a day: {}\".format(df_trp_dtls[df_trp_dtls.duration_min >= 1440]\n",
    "                                                                     .trip_id.count()))\n",
    "print(\"Subscriber types for riding bikes with duration more than a day: {}\".format(np.unique(df_trp_dtls[df_trp_dtls.duration_min >= 1440]\n",
    "      ['subscriber_type'], return_counts=True)))"
   ]
  },
  {
   "cell_type": "markdown",
   "metadata": {},
   "source": [
    "Further investigation of the trip_duration records show that roughly 97% of the trips have a duration of less than an hour and only about 1% of the trips have a duration more than 3 hours and about 0.03% have duration more than a day. The trips spanning multiple days are not restricted to any specific subscriber type. "
   ]
  },
  {
   "cell_type": "code",
   "execution_count": 28,
   "metadata": {},
   "outputs": [
    {
     "name": "stdout",
     "output_type": "stream",
     "text": [
      "Percentage of invalid zip codes in the dataset: 3.68\n",
      "Number of invalid zip codes for subscribers: 1964\n",
      "Number of invalid zip codes for customers: 34189\n"
     ]
    }
   ],
   "source": [
    "#Check how many zip codes do not have a corresponding zip_city\n",
    "#If a zip code did not find a corresponding city from the external dataset\n",
    "#we assume the zip code to be invalid\n",
    "print(\"Percentage of invalid zip codes in the dataset: {}\".\n",
    "      format(round(100* df_trp_dtls.zip_city.isna().values.sum()/df_trp_dtls.trip_id.count(), 2)))\n",
    "print(\"Number of invalid zip codes for subscribers: {}\".\n",
    "      format(df_trp_dtls[df_trp_dtls.subscriber_type=='Subscriber'].zip_city.isna().values.sum()))\n",
    "print(\"Number of invalid zip codes for customers: {}\".\n",
    "      format(df_trp_dtls[df_trp_dtls.subscriber_type=='Customer'].zip_city.isna().values.sum()))"
   ]
  },
  {
   "cell_type": "markdown",
   "metadata": {},
   "source": [
    "Analysis of the zip code data shows that about 3% records in the dataset appear to have invalid zip codes. Of the invalid zip codes, most are related to customer records. This should not have any impact on any analysis done based on zip code."
   ]
  },
  {
   "cell_type": "markdown",
   "metadata": {},
   "source": [
    "**Subscriber Type Analysis**"
   ]
  },
  {
   "cell_type": "code",
   "execution_count": 29,
   "metadata": {},
   "outputs": [
    {
     "name": "stdout",
     "output_type": "stream",
     "text": [
      "Number of subscriber related trips: 846839\n",
      "Number of customer related trips: 136809\n"
     ]
    }
   ],
   "source": [
    "#Subscriber trip data\n",
    "df_trp_dtls_subs = df_trp_dtls[df_trp_dtls.subscriber_type=='Subscriber']\n",
    "#Customer trip data\n",
    "df_trp_dtls_cust = df_trp_dtls[df_trp_dtls.subscriber_type=='Customer']\n",
    "\n",
    "print(\"Number of subscriber related trips: {}\".format(df_trp_dtls_subs.trip_id.count()))\n",
    "print(\"Number of customer related trips: {}\".format(df_trp_dtls_cust.trip_id.count()))"
   ]
  },
  {
   "cell_type": "code",
   "execution_count": 30,
   "metadata": {},
   "outputs": [],
   "source": [
    "#Month level aggregation\n",
    "df_trp_mth_subs = df_trp_dtls_subs.pivot_table(index=['trip_month_num','trip_month'],\n",
    "                                          values='rec_ct',aggfunc=sum).reset_index()\n",
    "df_trp_mth_cust = df_trp_dtls_cust.pivot_table(index=['trip_month_num','trip_month'],\n",
    "                                          values='rec_ct',aggfunc=sum).reset_index()\n",
    "#Day level aggregation\n",
    "df_trp_day_subs = df_trp_dtls_subs.pivot_table(index='trip_day_num',values='rec_ct',aggfunc=sum)\n",
    "df_trp_day_cust = df_trp_dtls_cust.pivot_table(index='trip_day_num',values='rec_ct',aggfunc=sum)\n",
    "#Day of Week  level aggregation\n",
    "df_trp_wkdy_subs = df_trp_dtls_subs.pivot_table(index=['day_srt','trip_day_of_week']\n",
    "                                                ,values='rec_ct',aggfunc=sum).reset_index()\n",
    "df_trp_wkdy_cust = df_trp_dtls_cust.pivot_table(index=['day_srt','trip_day_of_week']\n",
    "                                                ,values='rec_ct',aggfunc=sum).reset_index()\n",
    "#Hour level aggregation\n",
    "df_trp_hr_subs = df_trp_dtls_subs.pivot_table(index='trip_hour',values='rec_ct',aggfunc=sum)\n",
    "df_trp_hr_cust = df_trp_dtls_cust.pivot_table(index='trip_hour',values='rec_ct',aggfunc=sum)"
   ]
  },
  {
   "cell_type": "code",
   "execution_count": 31,
   "metadata": {},
   "outputs": [
    {
     "data": {
      "image/png": "[encoded data removed]",
      "text/plain": [
       "<Figure size 1080x216 with 2 Axes>"
      ]
     },
     "metadata": {},
     "output_type": "display_data"
    }
   ],
   "source": [
    "fig3 = plt.figure(figsize=(15,3))\n",
    "plt.subplot(121, facecolor='white')\n",
    "plt.title(\"Trips by Month\")\n",
    "plt.xticks(rotation=90, ha='center')\n",
    "plt.bar(df_trp_mth_subs.trip_month, df_trp_mth_subs.rec_ct, color='rosybrown')\n",
    "plt.bar(df_trp_mth_cust.trip_month, df_trp_mth_cust.rec_ct, color='cadetblue', bottom=df_trp_mth_subs.rec_ct)\n",
    "\n",
    "subs = plt.Rectangle((0,0),1,1,fc=\"rosybrown\", edgecolor = 'none')\n",
    "cust = plt.Rectangle((0,0),1,1,fc='cadetblue',  edgecolor = 'none')\n",
    "l = plt.legend([subs, cust], ['Subscriber', 'Customer'], loc='upper left'\n",
    "               , prop={'size': 7}, ncol=2, bbox_to_anchor=(0.9, 1.25))\n",
    "l.draw_frame(False)\n",
    "\n",
    "plt.subplot(122, facecolor='white')\n",
    "plt.title(\"Trips by Day of Week\")\n",
    "plt.bar(df_trp_wkdy_subs.trip_day_of_week, df_trp_wkdy_subs.rec_ct, color='rosybrown')\n",
    "plt.bar(df_trp_wkdy_cust.trip_day_of_week, df_trp_wkdy_cust.rec_ct, color='cadetblue', bottom=df_trp_wkdy_subs.rec_ct)\n",
    "plt.show()"
   ]
  },
  {
   "cell_type": "markdown",
   "metadata": {},
   "source": [
    "The number of trips seem to be more during the middle months of the year compared to the first two and last two months. The number of trips by day of week shows a clear trend. The number of trips are much more during the weeks compared to the weekend. This is expected due to the use of bikes by commuters during the weekdays. During weekends the number of subscribers using bike share is almost proportional to the number of customers using bikeshare."
   ]
  },
  {
   "cell_type": "code",
   "execution_count": 32,
   "metadata": {},
   "outputs": [
    {
     "data": {
      "image/png": "[encoded data removed]",
      "text/plain": [
       "<Figure size 1080x216 with 1 Axes>"
      ]
     },
     "metadata": {},
     "output_type": "display_data"
    }
   ],
   "source": [
    "fig4 = plt.figure(figsize=(15,3))\n",
    "plt.subplot(111, facecolor='white')\n",
    "plt.title(\"Trips by Day of Month\")\n",
    "plt.bar(df_trp_day_subs.index, df_trp_day_subs.rec_ct, color='rosybrown')\n",
    "plt.bar(df_trp_day_cust.index, df_trp_day_cust.rec_ct, color='cadetblue', bottom= df_trp_day_subs.rec_ct)\n",
    "\n",
    "l = plt.legend([subs, cust], ['Subscriber', 'Customer'], loc='upper left'\n",
    "               , prop={'size': 7}, ncol=2, bbox_to_anchor=(0.9, 1.25))\n",
    "l.draw_frame(False)"
   ]
  },
  {
   "cell_type": "markdown",
   "metadata": {},
   "source": [
    "There isn't any apparent trend in terms of the number of trips over the days of a month apart from the fact that the number of trips is slightly more between the 8th and 18th day of the month compared to the rest of the days. The dip in the 31st is due to the fact that half the months don't have 31 days."
   ]
  },
  {
   "cell_type": "code",
   "execution_count": 33,
   "metadata": {},
   "outputs": [
    {
     "data": {
      "image/png": "[encoded data removed]",
      "text/plain": [
       "<Figure size 1080x216 with 1 Axes>"
      ]
     },
     "metadata": {},
     "output_type": "display_data"
    }
   ],
   "source": [
    "fig5 = plt.figure(figsize=(15,3))\n",
    "plt.subplot(111, facecolor='white')\n",
    "plt.title(\"Trips by Hour\")\n",
    "plt.bar(df_trp_hr_subs.index, df_trp_hr_subs.rec_ct, color='rosybrown')\n",
    "plt.bar(df_trp_hr_cust.index, df_trp_hr_cust.rec_ct, color='cadetblue', bottom=df_trp_hr_subs.rec_ct)\n",
    "\n",
    "l = plt.legend([subs, cust], ['Subscriber', 'Customer'], loc='upper left'\n",
    "               , prop={'size': 7}, ncol=2, bbox_to_anchor=(0.9, 1.25))\n",
    "l.draw_frame(False)"
   ]
  },
  {
   "cell_type": "markdown",
   "metadata": {},
   "source": [
    "The trips by hour chart shows clear peaks during the hours of 7 AM to 10 AM and again during 4 PM to 7 PM. This is clearly due to the use of the bikes by commuters."
   ]
  },
  {
   "cell_type": "code",
   "execution_count": 34,
   "metadata": {},
   "outputs": [],
   "source": [
    "#State level aggregation\n",
    "df_trp_st_subs = df_trp_dtls_subs.pivot_table(index='zip_state',\n",
    "                                          values='rec_ct',aggfunc=sum).reset_index()\n",
    "df_trp_st_cust = df_trp_dtls_cust.pivot_table(index='zip_state',\n",
    "                                          values='rec_ct',aggfunc=sum).reset_index()"
   ]
  },
  {
   "cell_type": "code",
   "execution_count": 35,
   "metadata": {},
   "outputs": [
    {
     "data": {
      "text/html": [
       "<div>\n",
       "<style scoped>\n",
       "    .dataframe tbody tr th:only-of-type {\n",
       "        vertical-align: middle;\n",
       "    }\n",
       "\n",
       "    .dataframe tbody tr th {\n",
       "        vertical-align: top;\n",
       "    }\n",
       "\n",
       "    .dataframe thead th {\n",
       "        text-align: right;\n",
       "    }\n",
       "</style>\n",
       "<table border=\"1\" class=\"dataframe\">\n",
       "  <thead>\n",
       "    <tr style=\"text-align: right;\">\n",
       "      <th></th>\n",
       "      <th>zip_state</th>\n",
       "      <th>rec_ct</th>\n",
       "    </tr>\n",
       "  </thead>\n",
       "  <tbody>\n",
       "    <tr>\n",
       "      <th>2</th>\n",
       "      <td>CA</td>\n",
       "      <td>841765</td>\n",
       "    </tr>\n",
       "    <tr>\n",
       "      <th>26</th>\n",
       "      <td>WA</td>\n",
       "      <td>460</td>\n",
       "    </tr>\n",
       "    <tr>\n",
       "      <th>10</th>\n",
       "      <td>MA</td>\n",
       "      <td>409</td>\n",
       "    </tr>\n",
       "    <tr>\n",
       "      <th>8</th>\n",
       "      <td>IL</td>\n",
       "      <td>372</td>\n",
       "    </tr>\n",
       "    <tr>\n",
       "      <th>16</th>\n",
       "      <td>NV</td>\n",
       "      <td>371</td>\n",
       "    </tr>\n",
       "  </tbody>\n",
       "</table>\n",
       "</div>"
      ],
      "text/plain": [
       "   zip_state  rec_ct\n",
       "2         CA  841765\n",
       "26        WA     460\n",
       "10        MA     409\n",
       "8         IL     372\n",
       "16        NV     371"
      ]
     },
     "execution_count": 35,
     "metadata": {},
     "output_type": "execute_result"
    }
   ],
   "source": [
    "df_trp_st_subs.sort_values('rec_ct', ascending=False).head()"
   ]
  },
  {
   "cell_type": "code",
   "execution_count": 36,
   "metadata": {},
   "outputs": [
    {
     "data": {
      "text/html": [
       "<div>\n",
       "<style scoped>\n",
       "    .dataframe tbody tr th:only-of-type {\n",
       "        vertical-align: middle;\n",
       "    }\n",
       "\n",
       "    .dataframe tbody tr th {\n",
       "        vertical-align: top;\n",
       "    }\n",
       "\n",
       "    .dataframe thead th {\n",
       "        text-align: right;\n",
       "    }\n",
       "</style>\n",
       "<table border=\"1\" class=\"dataframe\">\n",
       "  <thead>\n",
       "    <tr style=\"text-align: right;\">\n",
       "      <th></th>\n",
       "      <th>zip_state</th>\n",
       "      <th>rec_ct</th>\n",
       "    </tr>\n",
       "  </thead>\n",
       "  <tbody>\n",
       "    <tr>\n",
       "      <th>6</th>\n",
       "      <td>CA</td>\n",
       "      <td>58786</td>\n",
       "    </tr>\n",
       "    <tr>\n",
       "      <th>37</th>\n",
       "      <td>NY</td>\n",
       "      <td>6265</td>\n",
       "    </tr>\n",
       "    <tr>\n",
       "      <th>47</th>\n",
       "      <td>TX</td>\n",
       "      <td>2816</td>\n",
       "    </tr>\n",
       "    <tr>\n",
       "      <th>22</th>\n",
       "      <td>MA</td>\n",
       "      <td>2689</td>\n",
       "    </tr>\n",
       "    <tr>\n",
       "      <th>17</th>\n",
       "      <td>IL</td>\n",
       "      <td>2612</td>\n",
       "    </tr>\n",
       "  </tbody>\n",
       "</table>\n",
       "</div>"
      ],
      "text/plain": [
       "   zip_state  rec_ct\n",
       "6         CA   58786\n",
       "37        NY    6265\n",
       "47        TX    2816\n",
       "22        MA    2689\n",
       "17        IL    2612"
      ]
     },
     "execution_count": 36,
     "metadata": {},
     "output_type": "execute_result"
    }
   ],
   "source": [
    "df_trp_st_cust.sort_values('rec_ct', ascending=False).head()"
   ]
  },
  {
   "cell_type": "markdown",
   "metadata": {},
   "source": [
    "Its not surprising the most of the trips for both subscriber types are related to California. Amongst the trips related to the subscriber population, 99% are from California whereas among the trips related to customers, about 43% are from California. Lets now analyze the distribution among the states excluding California."
   ]
  },
  {
   "cell_type": "code",
   "execution_count": 37,
   "metadata": {},
   "outputs": [
    {
     "data": {
      "image/png": "[encoded data removed]",
      "text/plain": [
       "<Figure size 1080x216 with 1 Axes>"
      ]
     },
     "metadata": {},
     "output_type": "display_data"
    }
   ],
   "source": [
    "fig6 = plt.figure(figsize=(15,3))\n",
    "plt.subplot(111, facecolor='white')\n",
    "plt.title(\"Subscriber Trips by State (excl. CA)\")\n",
    "plt.bar(df_trp_st_subs[~(df_trp_st_subs.zip_state == 'CA')]\n",
    "        .zip_state, df_trp_st_subs[~(df_trp_st_subs.zip_state == 'CA')].rec_ct, color='coral')\n",
    "plt.xticks(rotation=90)\n",
    "plt.show()"
   ]
  },
  {
   "cell_type": "code",
   "execution_count": 38,
   "metadata": {},
   "outputs": [
    {
     "data": {
      "image/png": "[encoded data removed]",
      "text/plain": [
       "<Figure size 1080x216 with 1 Axes>"
      ]
     },
     "metadata": {},
     "output_type": "display_data"
    }
   ],
   "source": [
    "fig7 = plt.figure(figsize=(15,3))\n",
    "plt.subplot(111, facecolor='white')\n",
    "plt.title(\"Customer Trips by State (excl. CA)\")\n",
    "plt.bar(df_trp_st_cust[~(df_trp_st_cust.zip_state == 'CA')]\n",
    "        .zip_state, df_trp_st_cust[~(df_trp_st_cust.zip_state == 'CA')].rec_ct, color='steelblue')\n",
    "plt.xticks(rotation=90)\n",
    "plt.show()"
   ]
  },
  {
   "cell_type": "markdown",
   "metadata": {},
   "source": [
    "Among the trips for out of state subscribers, Washington, Massachusetts, Illinois and Nevada lead the tally. However, the number of trips for these subscriber is in mere hundreds. These could be subscribers who used to stay in California but have moved out. Among the trips for out of state customers, New York, Texas, Massachusetts and Illinois lead the tally."
   ]
  },
  {
   "cell_type": "code",
   "execution_count": 39,
   "metadata": {},
   "outputs": [],
   "source": [
    "#California Customers\n",
    "df_trp_dtls_cust_CA = df_trp_dtls_cust[df_trp_dtls_cust.zip_state == 'CA']\n",
    "#City Pivot for California Customers\n",
    "df_trp_city_cust_CA = df_trp_dtls_cust_CA.pivot_table(index='zip_city',\n",
    "                                          values='rec_ct',aggfunc=sum).reset_index().sort_values(\n",
    "                                            'rec_ct', ascending=False).head(15)"
   ]
  },
  {
   "cell_type": "code",
   "execution_count": 40,
   "metadata": {},
   "outputs": [
    {
     "data": {
      "image/png": "[encoded data removed]",
      "text/plain": [
       "<Figure size 1080x216 with 1 Axes>"
      ]
     },
     "metadata": {},
     "output_type": "display_data"
    }
   ],
   "source": [
    "fig8 = plt.figure(figsize=(15,3))\n",
    "plt.subplot(111, facecolor='white')\n",
    "plt.title(\"California Customer Trips by City\")\n",
    "plt.bar(df_trp_city_cust_CA.zip_city, df_trp_city_cust_CA.rec_ct, color='peru')\n",
    "plt.xticks(rotation=90)\n",
    "plt.show()"
   ]
  },
  {
   "cell_type": "markdown",
   "metadata": {},
   "source": [
    "It appears that a lot of the trips for customers from California are actually related to customers from San Francisco or nearby cities. It may be worthwhile for Ford to try and convert them to subscribers by running some promotions."
   ]
  },
  {
   "cell_type": "markdown",
   "metadata": {},
   "source": [
    "**Analyze Trips by Duration**"
   ]
  },
  {
   "cell_type": "markdown",
   "metadata": {},
   "source": [
    "Earlier we found that about 97% of the trips have a duration less than an hour. These are probably commuter trips. Lets do some more analysis on these trips. We start by excluding the record which had a duration of 287840 minutes."
   ]
  },
  {
   "cell_type": "code",
   "execution_count": 41,
   "metadata": {},
   "outputs": [],
   "source": [
    "df_trp_dtls_dur = df_trp_dtls[~(df_trp_dtls.duration_min==287840.000000)]\n",
    "df_trp_dtls_subs_d = df_trp_dtls_subs[~(df_trp_dtls_subs.duration_min==287840.000000)]\n",
    "df_trp_dtls_cust_d = df_trp_dtls_cust[~(df_trp_dtls_cust.duration_min==287840.000000)]"
   ]
  },
  {
   "cell_type": "code",
   "execution_count": 42,
   "metadata": {},
   "outputs": [],
   "source": [
    "#Dataframe for records with duration less than or equal to 2 hours\n",
    "df_trp_dtls_dur2 = df_trp_dtls_dur[df_trp_dtls_dur.duration_min <=120].copy()\n",
    "# Group the records with duration less than 2 hours into varying bins \n",
    "minute_ranges = [0,10,20,30,45,60,90,120]\n",
    "labels = ['<=10 mins', '10-20 mins', '20-30 mins','30-45 mins','45-60 mins','60-90 mins','90-120 mins']\n",
    "df_trp_dtls_dur2['min_bkt'] = pd.cut(df_trp_dtls_dur2.duration_min, minute_ranges, labels=labels).astype('category')\n",
    "\n",
    "df_trp_dtls_dur2_pvt = df_trp_dtls_dur2.pivot_table(index='min_bkt',\n",
    "                                          values='rec_ct',aggfunc=sum).reset_index()"
   ]
  },
  {
   "cell_type": "code",
   "execution_count": 43,
   "metadata": {},
   "outputs": [
    {
     "data": {
      "image/png": "[encoded data removed]",
      "text/plain": [
       "<Figure size 432x288 with 1 Axes>"
      ]
     },
     "metadata": {},
     "output_type": "display_data"
    }
   ],
   "source": [
    "fig9 = plt.figure()\n",
    "plt.subplot(111, facecolor='white')\n",
    "plt.title(\"Distribution of trips with duration less than 2 hours\")\n",
    "plt.bar(df_trp_dtls_dur2_pvt.min_bkt, df_trp_dtls_dur2_pvt.rec_ct, color='slategrey')\n",
    "plt.xticks(rotation=90)\n",
    "plt.show()"
   ]
  },
  {
   "cell_type": "markdown",
   "metadata": {},
   "source": [
    "Of the trips having duration less than 2 hours, about 60% of the trips have a duration less than or equal to 10 minutes, about 30% have duration between 10 and 20 minutes and the rest have duration between 20 and 120 minutes."
   ]
  },
  {
   "cell_type": "code",
   "execution_count": 44,
   "metadata": {},
   "outputs": [
    {
     "data": {
      "image/png": "[encoded data removed]",
      "text/plain": [
       "<Figure size 1296x216 with 3 Axes>"
      ]
     },
     "metadata": {},
     "output_type": "display_data"
    }
   ],
   "source": [
    "#Average trip duration by time of day\n",
    "fig10 = plt.figure(figsize=(18,3))\n",
    "fig10.text(.5, 1, \"Average duartion of trips by time of day\", ha='center')\n",
    "plt.subplot(131)\n",
    "#Overall plot\n",
    "plt.plot(df_trp_dtls_dur[df_trp_dtls_dur.trip_time=='Morning'].groupby('trip_month_num')\n",
    "              .duration_min.mean(), color='darkorange')\n",
    "plt.plot(df_trp_dtls_dur[df_trp_dtls_dur.trip_time=='Afternoon'].groupby('trip_month_num')\n",
    "              .duration_min.mean(), color='darkslateblue')\n",
    "plt.plot(df_trp_dtls_dur[df_trp_dtls_dur.trip_time=='Evening'].groupby('trip_month_num')\n",
    "              .duration_min.mean(), color='darkgreen')\n",
    "plt.plot(df_trp_dtls_dur[df_trp_dtls_dur.trip_time=='Night'].groupby('trip_month_num')\n",
    "              .duration_min.mean(), color='maroon')\n",
    "plt.title(\"Overall\", fontsize=8)\n",
    "\n",
    "plt.subplot(132)\n",
    "#Plot for subscribers\n",
    "p1 = plt.plot(df_trp_dtls_subs_d[df_trp_dtls_subs_d.trip_time=='Morning'].groupby('trip_month_num')\n",
    "              .duration_min.mean(), color='darkorange')\n",
    "p2 = plt.plot(df_trp_dtls_subs_d[df_trp_dtls_subs_d.trip_time=='Afternoon'].groupby('trip_month_num')\n",
    "              .duration_min.mean(), color='darkslateblue')\n",
    "p3 = plt.plot(df_trp_dtls_subs_d[df_trp_dtls_subs_d.trip_time=='Evening'].groupby('trip_month_num')\n",
    "              .duration_min.mean(), color='darkgreen')\n",
    "p4 = plt.plot(df_trp_dtls_subs_d[df_trp_dtls_subs_d.trip_time=='Night'].groupby('trip_month_num')\n",
    "              .duration_min.mean(), color='maroon')\n",
    "plt.title(\"Subscribers\", fontsize=8)\n",
    "l = plt.legend((p1[0], p2[0], p3[0], p4[0]), ('Morning', 'Afternoon','Evening','Night'), loc='upper left'\n",
    "               , prop={'size': 7}, ncol=4, bbox_to_anchor=(1.25, 1.25))\n",
    "l.draw_frame(False)\n",
    "\n",
    "plt.subplot(133)\n",
    "#plot for customers\n",
    "plt.plot(df_trp_dtls_cust_d[df_trp_dtls_cust_d.trip_time=='Morning'].groupby('trip_month_num')\n",
    "              .duration_min.mean(), color='darkorange')\n",
    "plt.plot(df_trp_dtls_cust_d[df_trp_dtls_cust_d.trip_time=='Afternoon'].groupby('trip_month_num')\n",
    "              .duration_min.mean(), color='darkslateblue')\n",
    "plt.plot(df_trp_dtls_cust_d[df_trp_dtls_cust_d.trip_time=='Evening'].groupby('trip_month_num')\n",
    "              .duration_min.mean(), color='darkgreen')\n",
    "plt.plot(df_trp_dtls_cust_d[df_trp_dtls_cust_d.trip_time=='Night'].groupby('trip_month_num')\n",
    "              .duration_min.mean(), color='maroon')\n",
    "plt.title(\"Customers\", fontsize=8)\n",
    "plt.show()"
   ]
  },
  {
   "cell_type": "markdown",
   "metadata": {},
   "source": [
    "Overall for all the months, the average duration of trips starting at night is usually more than the ones starting at other times of the day. The average duration of trip starting at morning, afternoon and evenings are pretty close most of the year. However, for subscribers, the duration of trips starting at night is lesser than the ones starting at other times of the day from February to November. Between February and May, the average duration of trips starting at Mornings, Afternoons and Evenings are close. However, between June and November, the average duration of trips starting in Mornings is lesser than those those starting in Afternoons and Evenings. For customers, the trips starting at night has a greater average duration than the ones starting at other times, for most of the year. Among Morning, Afternoon and Evening trips, the average duration of trips starting in mornings is the most and the ones starting in Evenings is the least throughout the year."
   ]
  },
  {
   "cell_type": "markdown",
   "metadata": {},
   "source": [
    "**Trip Type**"
   ]
  },
  {
   "cell_type": "code",
   "execution_count": 45,
   "metadata": {},
   "outputs": [
    {
     "name": "stdout",
     "output_type": "stream",
     "text": [
      "Number of trips related to California subscribers and customers: 900551\n",
      "Number of trips related to subscribers and customers from other states: 83097\n"
     ]
    }
   ],
   "source": [
    "#Local trip data\n",
    "df_trp_dtls_local = df_trp_dtls[df_trp_dtls.local_state==1]\n",
    "#Out of state trip data\n",
    "df_trp_dtls_nonlocal = df_trp_dtls[df_trp_dtls.local_state==0]\n",
    "\n",
    "print(\"Number of trips related to California subscribers and customers: {}\"\n",
    "      .format(df_trp_dtls_local.trip_id.count()))\n",
    "print(\"Number of trips related to subscribers and customers from other states: {}\"\n",
    "      .format(df_trp_dtls_nonlocal.trip_id.count()))"
   ]
  },
  {
   "cell_type": "code",
   "execution_count": 46,
   "metadata": {},
   "outputs": [
    {
     "data": {
      "text/html": [
       "<div>\n",
       "<style scoped>\n",
       "    .dataframe tbody tr th:only-of-type {\n",
       "        vertical-align: middle;\n",
       "    }\n",
       "\n",
       "    .dataframe tbody tr th {\n",
       "        vertical-align: top;\n",
       "    }\n",
       "\n",
       "    .dataframe thead th {\n",
       "        text-align: right;\n",
       "    }\n",
       "</style>\n",
       "<table border=\"1\" class=\"dataframe\">\n",
       "  <thead>\n",
       "    <tr style=\"text-align: right;\">\n",
       "      <th></th>\n",
       "      <th>trip_type</th>\n",
       "      <th>rec_ct</th>\n",
       "    </tr>\n",
       "  </thead>\n",
       "  <tbody>\n",
       "    <tr>\n",
       "      <th>0</th>\n",
       "      <td>OneWayTrip</td>\n",
       "      <td>880802</td>\n",
       "    </tr>\n",
       "    <tr>\n",
       "      <th>1</th>\n",
       "      <td>RoundTrip</td>\n",
       "      <td>19749</td>\n",
       "    </tr>\n",
       "  </tbody>\n",
       "</table>\n",
       "</div>"
      ],
      "text/plain": [
       "    trip_type  rec_ct\n",
       "0  OneWayTrip  880802\n",
       "1   RoundTrip   19749"
      ]
     },
     "execution_count": 46,
     "metadata": {},
     "output_type": "execute_result"
    }
   ],
   "source": [
    "#Trip Type aggregation for California subscribers and customers\n",
    "df_trp_trptyp_local = df_trp_dtls_local.pivot_table(index='trip_type',\n",
    "                                          values='rec_ct',aggfunc=sum).reset_index()\n",
    "df_trp_trptyp_local"
   ]
  },
  {
   "cell_type": "code",
   "execution_count": 47,
   "metadata": {},
   "outputs": [
    {
     "data": {
      "text/html": [
       "<div>\n",
       "<style scoped>\n",
       "    .dataframe tbody tr th:only-of-type {\n",
       "        vertical-align: middle;\n",
       "    }\n",
       "\n",
       "    .dataframe tbody tr th {\n",
       "        vertical-align: top;\n",
       "    }\n",
       "\n",
       "    .dataframe thead th {\n",
       "        text-align: right;\n",
       "    }\n",
       "</style>\n",
       "<table border=\"1\" class=\"dataframe\">\n",
       "  <thead>\n",
       "    <tr style=\"text-align: right;\">\n",
       "      <th></th>\n",
       "      <th>trip_type</th>\n",
       "      <th>rec_ct</th>\n",
       "    </tr>\n",
       "  </thead>\n",
       "  <tbody>\n",
       "    <tr>\n",
       "      <th>0</th>\n",
       "      <td>OneWayTrip</td>\n",
       "      <td>70799</td>\n",
       "    </tr>\n",
       "    <tr>\n",
       "      <th>1</th>\n",
       "      <td>RoundTrip</td>\n",
       "      <td>12298</td>\n",
       "    </tr>\n",
       "  </tbody>\n",
       "</table>\n",
       "</div>"
      ],
      "text/plain": [
       "    trip_type  rec_ct\n",
       "0  OneWayTrip   70799\n",
       "1   RoundTrip   12298"
      ]
     },
     "execution_count": 47,
     "metadata": {},
     "output_type": "execute_result"
    }
   ],
   "source": [
    "#Trip Type aggregation for non-California subscribers and customers\n",
    "df_trp_trptyp_nonlocal = df_trp_dtls_nonlocal.pivot_table(index='trip_type',\n",
    "                                          values='rec_ct',aggfunc=sum).reset_index()\n",
    "df_trp_trptyp_nonlocal"
   ]
  },
  {
   "cell_type": "markdown",
   "metadata": {},
   "source": [
    "The number of one way trips is more for both subscriber types within California as well as the ones from the other states. However the proportion of one way trips to round trips is much higher for subscribers within California."
   ]
  },
  {
   "cell_type": "code",
   "execution_count": 48,
   "metadata": {},
   "outputs": [],
   "source": [
    "#Local trip data\n",
    "df_trp_dtls_nlocal_one = df_trp_dtls_nonlocal[df_trp_dtls_nonlocal.trip_type=='OneWayTrip']\n",
    "#Out of state trip data\n",
    "df_trp_dtls_nlocal_rnd = df_trp_dtls_nonlocal[df_trp_dtls_nonlocal.trip_type=='RoundTrip']\n",
    "\n",
    "\n",
    "df_trp_dtls_nlocal_one_pvt = df_trp_dtls_nlocal_one.pivot_table(index='subscriber_type',\n",
    "                                          values='rec_ct',aggfunc=sum).reset_index()\n",
    "df_trp_dtls_nlocal_rnd_pvt = df_trp_dtls_nlocal_rnd.pivot_table(index='subscriber_type',\n",
    "                                          values='rec_ct',aggfunc=sum).reset_index()"
   ]
  },
  {
   "cell_type": "code",
   "execution_count": 49,
   "metadata": {},
   "outputs": [
    {
     "data": {
      "image/png": "[encoded data removed]",
      "text/plain": [
       "<Figure size 1080x216 with 1 Axes>"
      ]
     },
     "metadata": {},
     "output_type": "display_data"
    }
   ],
   "source": [
    "fig11 = plt.figure(figsize=(15,3))\n",
    "plt.subplot(111, facecolor='white')\n",
    "plt.title(\"Trips by Subscriber Type and Trip Type for Out of State Customers\")\n",
    "plt.xticks(rotation=90, ha='center')\n",
    "plt.bar(df_trp_dtls_nlocal_one_pvt.subscriber_type, df_trp_dtls_nlocal_one_pvt.rec_ct, color='steelblue')\n",
    "plt.bar(df_trp_dtls_nlocal_rnd_pvt.subscriber_type, df_trp_dtls_nlocal_rnd_pvt.rec_ct, color='coral'\n",
    "        , bottom=df_trp_dtls_nlocal_one_pvt.rec_ct)\n",
    "\n",
    "subs = plt.Rectangle((0,0),1,1,fc=\"steelblue\", edgecolor = 'none')\n",
    "cust = plt.Rectangle((0,0),1,1,fc='coral',  edgecolor = 'none')\n",
    "l = plt.legend([subs, cust], ['OneWayTrip', 'RoundTrip'], loc='upper left'\n",
    "               , prop={'size': 7}, ncol=2, bbox_to_anchor=(0.9, 1.25))\n",
    "l.draw_frame(False)"
   ]
  },
  {
   "cell_type": "markdown",
   "metadata": {},
   "source": [
    "Among the trips related to the out of state subscribers and customers, one way trips are much more popular than the round trips. The trips related to out of state customers are more in number as compared to the ones related to the out of state subscribers. Most of the out of state customers are probably tourists. There is a potential of offering some deals for round trips for these people so as to incentivize them to use bikes when they are going out for sightseeing in San Francisco."
   ]
  },
  {
   "cell_type": "markdown",
   "metadata": {},
   "source": [
    "### Commuter Trips"
   ]
  },
  {
   "cell_type": "markdown",
   "metadata": {},
   "source": [
    "Commuter trips are generally trips to work. In terms of bikeshare, it would make sense for these trips to be one way trips as commuters are more likely to take one bike to work (usually during mornings) and a different one when returning from work (usually during evenings). Also, since commuters are more likely to ride the bikes regularly, it would make sense for them to be subscribers rather than customers. During our EDA we attributed the increased number of weekday trips as well as the daily peaks during the hours of 7 AM to 10 AM and 4 PM to 7 PM to commuters. Lets take a subset of the data based on the above criteria for further analysis of commuter trips. We also assume that the duration of commuter trips is usually less than 2 hours."
   ]
  },
  {
   "cell_type": "code",
   "execution_count": 50,
   "metadata": {},
   "outputs": [
    {
     "data": {
      "text/html": [
       "<div>\n",
       "<style scoped>\n",
       "    .dataframe tbody tr th:only-of-type {\n",
       "        vertical-align: middle;\n",
       "    }\n",
       "\n",
       "    .dataframe tbody tr th {\n",
       "        vertical-align: top;\n",
       "    }\n",
       "\n",
       "    .dataframe thead th {\n",
       "        text-align: right;\n",
       "    }\n",
       "</style>\n",
       "<table border=\"1\" class=\"dataframe\">\n",
       "  <thead>\n",
       "    <tr style=\"text-align: right;\">\n",
       "      <th></th>\n",
       "      <th>trip_id</th>\n",
       "      <th>start_station_name</th>\n",
       "      <th>start_station_id</th>\n",
       "      <th>end_station_name</th>\n",
       "      <th>end_station_id</th>\n",
       "      <th>zip_code</th>\n",
       "      <th>duration_min</th>\n",
       "      <th>rec_ct</th>\n",
       "      <th>zip_city</th>\n",
       "      <th>zip_state</th>\n",
       "    </tr>\n",
       "  </thead>\n",
       "  <tbody>\n",
       "    <tr>\n",
       "      <th>7747</th>\n",
       "      <td>139610</td>\n",
       "      <td>Embarcadero at Bryant</td>\n",
       "      <td>54</td>\n",
       "      <td>Townsend at 7th</td>\n",
       "      <td>65</td>\n",
       "      <td>95060</td>\n",
       "      <td>12.816667</td>\n",
       "      <td>1</td>\n",
       "      <td>Santa Cruz</td>\n",
       "      <td>CA</td>\n",
       "    </tr>\n",
       "    <tr>\n",
       "      <th>7759</th>\n",
       "      <td>139614</td>\n",
       "      <td>Powell Street BART</td>\n",
       "      <td>39</td>\n",
       "      <td>Embarcadero at Vallejo</td>\n",
       "      <td>48</td>\n",
       "      <td>94117</td>\n",
       "      <td>11.866667</td>\n",
       "      <td>1</td>\n",
       "      <td>San Francisco</td>\n",
       "      <td>CA</td>\n",
       "    </tr>\n",
       "    <tr>\n",
       "      <th>7774</th>\n",
       "      <td>139615</td>\n",
       "      <td>Embarcadero at Bryant</td>\n",
       "      <td>54</td>\n",
       "      <td>San Francisco Caltrain 2 (330 Townsend)</td>\n",
       "      <td>69</td>\n",
       "      <td>94105</td>\n",
       "      <td>25.066667</td>\n",
       "      <td>1</td>\n",
       "      <td>San Francisco</td>\n",
       "      <td>CA</td>\n",
       "    </tr>\n",
       "    <tr>\n",
       "      <th>7782</th>\n",
       "      <td>139618</td>\n",
       "      <td>Temporary Transbay Terminal (Howard at Beale)</td>\n",
       "      <td>55</td>\n",
       "      <td>Yerba Buena Center of the Arts (3rd @ Howard)</td>\n",
       "      <td>68</td>\n",
       "      <td>94114</td>\n",
       "      <td>4.400000</td>\n",
       "      <td>1</td>\n",
       "      <td>San Francisco</td>\n",
       "      <td>CA</td>\n",
       "    </tr>\n",
       "    <tr>\n",
       "      <th>7858</th>\n",
       "      <td>588937</td>\n",
       "      <td>Powell Street BART</td>\n",
       "      <td>39</td>\n",
       "      <td>Market at 4th</td>\n",
       "      <td>76</td>\n",
       "      <td>94133</td>\n",
       "      <td>2.566667</td>\n",
       "      <td>1</td>\n",
       "      <td>San Francisco</td>\n",
       "      <td>CA</td>\n",
       "    </tr>\n",
       "  </tbody>\n",
       "</table>\n",
       "</div>"
      ],
      "text/plain": [
       "      trip_id                             start_station_name  \\\n",
       "7747   139610                          Embarcadero at Bryant   \n",
       "7759   139614                             Powell Street BART   \n",
       "7774   139615                          Embarcadero at Bryant   \n",
       "7782   139618  Temporary Transbay Terminal (Howard at Beale)   \n",
       "7858   588937                             Powell Street BART   \n",
       "\n",
       "      start_station_id                               end_station_name  \\\n",
       "7747                54                                Townsend at 7th   \n",
       "7759                39                         Embarcadero at Vallejo   \n",
       "7774                54        San Francisco Caltrain 2 (330 Townsend)   \n",
       "7782                55  Yerba Buena Center of the Arts (3rd @ Howard)   \n",
       "7858                39                                  Market at 4th   \n",
       "\n",
       "      end_station_id zip_code  duration_min  rec_ct       zip_city zip_state  \n",
       "7747              65    95060     12.816667       1     Santa Cruz        CA  \n",
       "7759              48    94117     11.866667       1  San Francisco        CA  \n",
       "7774              69    94105     25.066667       1  San Francisco        CA  \n",
       "7782              68    94114      4.400000       1  San Francisco        CA  \n",
       "7858              76    94133      2.566667       1  San Francisco        CA  "
      ]
     },
     "execution_count": 50,
     "metadata": {},
     "output_type": "execute_result"
    }
   ],
   "source": [
    "#Dataframe prep for analyzing commuter trips\n",
    "df_comm_trips = df_trp_dtls[(df_trp_dtls.subscriber_type=='Subscriber') & (df_trp_dtls.trip_type=='OneWayTrip')\n",
    "              & ~(df_trp_dtls.trip_day_of_week.isin(['Sat','Sun'])) & (df_trp_dtls.trip_hour.isin([7,8,9,4,5,6]))\n",
    "                           & (df_trp_dtls.duration_min <= 120)]\n",
    "df_comm_trips = df_comm_trips.drop(['start_datetime','end_datetime','subscriber_type', 'start_date', 'start_time', 'trip_year',\n",
    "                   'trip_month', 'trip_month_num', 'trip_day_num', 'trip_day_of_week','trip_hour', 'end_date', \n",
    "                    'end_time', 'trip_type', 'trip_time', 'local_city','local_state', 'day_srt'], axis=1)\n",
    "df_comm_trips.head()"
   ]
  },
  {
   "cell_type": "markdown",
   "metadata": {},
   "source": [
    "#### Most Popular Commuter Trips"
   ]
  },
  {
   "cell_type": "code",
   "execution_count": 51,
   "metadata": {},
   "outputs": [
    {
     "data": {
      "text/html": [
       "<div>\n",
       "<style scoped>\n",
       "    .dataframe tbody tr th:only-of-type {\n",
       "        vertical-align: middle;\n",
       "    }\n",
       "\n",
       "    .dataframe tbody tr th {\n",
       "        vertical-align: top;\n",
       "    }\n",
       "\n",
       "    .dataframe thead th {\n",
       "        text-align: right;\n",
       "    }\n",
       "</style>\n",
       "<table border=\"1\" class=\"dataframe\">\n",
       "  <thead>\n",
       "    <tr style=\"text-align: right;\">\n",
       "      <th></th>\n",
       "      <th></th>\n",
       "      <th></th>\n",
       "      <th></th>\n",
       "      <th>rec_ct</th>\n",
       "    </tr>\n",
       "    <tr>\n",
       "      <th>start_station_id</th>\n",
       "      <th>start_station_name</th>\n",
       "      <th>end_station_id</th>\n",
       "      <th>end_station_name</th>\n",
       "      <th></th>\n",
       "    </tr>\n",
       "  </thead>\n",
       "  <tbody>\n",
       "    <tr>\n",
       "      <th>50</th>\n",
       "      <th>Harry Bridges Plaza (Ferry Building)</th>\n",
       "      <th>61</th>\n",
       "      <th>2nd at Townsend</th>\n",
       "      <td>4750</td>\n",
       "    </tr>\n",
       "    <tr>\n",
       "      <th>70</th>\n",
       "      <th>San Francisco Caltrain (Townsend at 4th)</th>\n",
       "      <th>55</th>\n",
       "      <th>Temporary Transbay Terminal (Howard at Beale)</th>\n",
       "      <td>3809</td>\n",
       "    </tr>\n",
       "    <tr>\n",
       "      <th>74</th>\n",
       "      <th>Steuart at Market</th>\n",
       "      <th>61</th>\n",
       "      <th>2nd at Townsend</th>\n",
       "      <td>3774</td>\n",
       "    </tr>\n",
       "    <tr>\n",
       "      <th>70</th>\n",
       "      <th>San Francisco Caltrain (Townsend at 4th)</th>\n",
       "      <th>51</th>\n",
       "      <th>Embarcadero at Folsom</th>\n",
       "      <td>3593</td>\n",
       "    </tr>\n",
       "    <tr>\n",
       "      <th>69</th>\n",
       "      <th>San Francisco Caltrain 2 (330 Townsend)</th>\n",
       "      <th>65</th>\n",
       "      <th>Townsend at 7th</th>\n",
       "      <td>3544</td>\n",
       "    </tr>\n",
       "  </tbody>\n",
       "</table>\n",
       "</div>"
      ],
      "text/plain": [
       "                                                                                                                        rec_ct\n",
       "start_station_id start_station_name                       end_station_id end_station_name                                     \n",
       "50               Harry Bridges Plaza (Ferry Building)     61             2nd at Townsend                                  4750\n",
       "70               San Francisco Caltrain (Townsend at 4th) 55             Temporary Transbay Terminal (Howard at Beale)    3809\n",
       "74               Steuart at Market                        61             2nd at Townsend                                  3774\n",
       "70               San Francisco Caltrain (Townsend at 4th) 51             Embarcadero at Folsom                            3593\n",
       "69               San Francisco Caltrain 2 (330 Townsend)  65             Townsend at 7th                                  3544"
      ]
     },
     "execution_count": 51,
     "metadata": {},
     "output_type": "execute_result"
    }
   ],
   "source": [
    "df_comm_trips.pivot_table(index=['start_station_id','start_station_name', 'end_station_id','end_station_name'],\n",
    "                         values='rec_ct',aggfunc=sum).sort_values('rec_ct', ascending=False).head()"
   ]
  },
  {
   "cell_type": "markdown",
   "metadata": {},
   "source": [
    "Trips originating at the start stations and ending in the end stations shown above are the most popular commuter trips."
   ]
  },
  {
   "cell_type": "code",
   "execution_count": 52,
   "metadata": {},
   "outputs": [],
   "source": [
    "#Top 5 Start Stations for commuter trips\n",
    "df_comm_trips_stns = df_comm_trips.pivot_table(index=['start_station_id','start_station_name'],\n",
    "                         values='rec_ct',aggfunc=sum).sort_values('rec_ct', ascending=False).head().reset_index()\n",
    "#Top 5 Home Cities for commute trip customers\n",
    "df_comm_trips_city = df_comm_trips.pivot_table(index='zip_city',values='rec_ct',aggfunc=sum) \\\n",
    "                                               .sort_values('rec_ct', ascending=False).head().reset_index()"
   ]
  },
  {
   "cell_type": "code",
   "execution_count": 53,
   "metadata": {},
   "outputs": [
    {
     "data": {
      "image/png": "[encoded data removed]",
      "text/plain": [
       "<Figure size 1080x216 with 2 Axes>"
      ]
     },
     "metadata": {},
     "output_type": "display_data"
    }
   ],
   "source": [
    "fig12 = plt.figure(figsize=(15,3))\n",
    "plt.subplot(121, facecolor='white')\n",
    "plt.title(\"Top 5 Start Stations for Commuter Trips\")\n",
    "plt.barh(df_comm_trips_stns.start_station_name, df_comm_trips_stns.rec_ct, color='skyblue')\n",
    "\n",
    "plt.subplot(122, facecolor='white')\n",
    "plt.title(\"Top 5 Home Cities for Commuters\")\n",
    "plt.barh(df_comm_trips_city.zip_city, df_comm_trips_city.rec_ct, color='skyblue')\n",
    "\n",
    "plt.tight_layout()\n",
    "plt.show()"
   ]
  },
  {
   "cell_type": "markdown",
   "metadata": {},
   "source": [
    "### Recommendations"
   ]
  },
  {
   "cell_type": "markdown",
   "metadata": {},
   "source": [
    "- During EDA, we found that the number of trips are much lesser during weekends. Offers with special weekend rates for customers may help increase ridership during weekends\n",
    "- We also noticed that the number of trips for subscribers and customers are very close on weekends. Special offers with discounts for popular shops, restaurants have help increase subscriber ridership during weekends\n",
    "- The ridership is also lesser during the first and last two months of the year. This may be due to the cold weather in these months. Special pricing along with discounts for hot beverages (coffee shops etc.) may help increase ridership in these months.\n",
    "- We also found peak usage during certain hours of the day. Offers for off peak hours may also help increase ridership.\n",
    "- Our EDA also highlighted customers whose home state is California and home cities are close to San Francisco. Offers and promotions motivating such customers to become subscribers (such as free rides for the first month) may also help.\n",
    "- We also saw that there are trips related customers from a majority of states outside of California. These are probably the trips related to tourists visiting California. They may be looking for a monthly or a weekly subscription model depending on the duration of their stay in California.\n",
    "- We also noticed that most of the trips have short durations and the duration for the majority of the trips is less than an hour. This indicates that the current program is mostly attracting commuters an customers who use bike for short distances. There may be an opportunity to attract recreational bikers who bike for longer distances and hence longer durations. Such offers may in fact be combined with the weekend offers as most of the recreational bikers go biking on weekends. \n",
    "- In addition, a lot of recreational bikers also bike after work hours. Based on our EDA we know that the number of trips starting in evenings and nights is generally very low for both subscribers and customers. Offers allowing bikers to rent bikes for longer durations at attractive prices in evenings and nights may also help.\n",
    "- The EDA of the bikeshare station status data highlighted some stations where the utilization is really low at various time periods. It may be worthwhile to look into certain station specific offers for these stations as well."
   ]
  },
  {
   "cell_type": "markdown",
   "metadata": {},
   "source": [
    "### Conclusion"
   ]
  },
  {
   "cell_type": "markdown",
   "metadata": {},
   "source": [
    "While bikeshare appears to be gaining popularity among commuters, a lot can still be done to increase rideship among other categories of people including but not limited to tourists and recreational bikers. There are also opportunities for increasing the outreach to subscribers through offers that motivate them to use the bikes for purpose other than work commutes. There are also opportunities to look into other external factors that may be impacting the usage of bikes in the stations with low utilization. We also noticed that very few stations have had new docks installed of late. There may be opportunities to increase ridership in the popular stations as well by increasing the number of docks. The opportunities can be leveraged to attract not only local subscribers and customers but also from outside California. In short, bikeshares have huge potential for growth."
   ]
  },
  {
   "cell_type": "markdown",
   "metadata": {},
   "source": [
    "### Appendix"
   ]
  },
  {
   "cell_type": "markdown",
   "metadata": {},
   "source": [
    "#### Intermediate Dataset Queries"
   ]
  },
  {
   "cell_type": "markdown",
   "metadata": {},
   "source": [
    "- bikeshare_status_details\n",
    "```\n",
    "#standardSQL\n",
    "SELECT station_id, bikes_available,docks_available, \n",
    "FORMAT_DATETIME(\"%x\",DATETIME(time)) as clndr_date,\n",
    "FORMAT_DATETIME(\"%X\",DATETIME(time)) as time_of_day,\n",
    "FORMAT_DATETIME(\"%Y\",DATETIME(time)) as clndr_year,\n",
    "FORMAT_DATETIME(\"%b\",DATETIME(time)) as clndr_month,\n",
    "FORMAT_DATETIME(\"%m\",DATETIME(time)) as clndr_month_num,\n",
    "FORMAT_DATETIME(\"%d\",DATETIME(time)) as clndr_day_num,\n",
    "FORMAT_DATETIME(\"%a\",DATETIME(time)) as clndr_day_of_week,\n",
    "FORMAT_DATETIME(\"%H\",DATETIME(time)) as hour_of_day\n",
    "FROM `bigquery-public-data.san_francisco.bikeshare_status`\n",
    "```"
   ]
  },
  {
   "cell_type": "markdown",
   "metadata": {},
   "source": [
    "- bikeshare_sts_mth_summary \n",
    "```\n",
    "#standardSQL\n",
    "SELECT station_id, clndr_month, clndr_month_num,\n",
    "max(bikes_available) as max_bikes_available, \n",
    "min(bikes_available) as min_bikes_available,\n",
    "max(docks_available) as max_docks_available, \n",
    "min(docks_available) as min_docks_available,\n",
    "max(bikes_available + docks_available) as total_bikes,\n",
    "round(100 * if (max(bikes_available + docks_available) > 0, \n",
    "min(bikes_available)/max(bikes_available + docks_available), 0),2) as unused_pct\n",
    "FROM `strange-song-215316.bike_trip_data.bikeshare_status_details` \n",
    "group by station_id, clndr_month, clndr_month_num order by 1,3\n",
    "```"
   ]
  },
  {
   "cell_type": "markdown",
   "metadata": {},
   "source": [
    "- bikeshare_sts_day_summary \n",
    "```\n",
    "#standardSQL\n",
    "SELECT station_id, clndr_day_num,\n",
    "max(bikes_available) as max_bikes_available, \n",
    "min(bikes_available) as min_bikes_available,\n",
    "max(docks_available) as max_docks_available, \n",
    "min(docks_available) as min_docks_available,\n",
    "max(bikes_available + docks_available) as total_bikes,\n",
    "round(100 * if (max(bikes_available + docks_available) > 0, \n",
    "min(bikes_available)/max(bikes_available + docks_available), 0),2) as unused_pct\n",
    "FROM `strange-song-215316.bike_trip_data.bikeshare_status_details` \n",
    "group by station_id, clndr_day_num order by 1,2\n",
    "```"
   ]
  },
  {
   "cell_type": "markdown",
   "metadata": {},
   "source": [
    "- bikeshare_sts_weekday_summary \n",
    "```\n",
    "#standardSQL\n",
    "SELECT station_id, clndr_day_of_week,\n",
    "max(bikes_available) as max_bikes_available, \n",
    "min(bikes_available) as min_bikes_available,\n",
    "max(docks_available) as max_docks_available, \n",
    "min(docks_available) as min_docks_available,\n",
    "max(bikes_available + docks_available) as total_bikes,\n",
    "round(100 * if (max(bikes_available + docks_available) > 0, \n",
    "min(bikes_available)/max(bikes_available + docks_available), 0),2) as unused_pct\n",
    "FROM `strange-song-215316.bike_trip_data.bikeshare_status_details` \n",
    "group by station_id, clndr_day_of_week\n",
    "```"
   ]
  },
  {
   "cell_type": "markdown",
   "metadata": {},
   "source": [
    "- bikeshare_sts_hour_summary \n",
    "```\n",
    "#standardSQL\n",
    "SELECT station_id, hour_of_day,\n",
    "max(bikes_available) as max_bikes_available, \n",
    "min(bikes_available) as min_bikes_available,\n",
    "max(docks_available) as max_docks_available, \n",
    "min(docks_available) as min_docks_available,\n",
    "max(bikes_available + docks_available) as total_bikes,\n",
    "round(100 * if (max(bikes_available + docks_available) > 0, \n",
    "min(bikes_available)/max(bikes_available + docks_available), 0),2) as unused_pct\n",
    "FROM `strange-song-215316.bike_trip_data.bikeshare_status_details` \n",
    "group by station_id, hour_of_day order by 1,2\n",
    "```"
   ]
  },
  {
   "cell_type": "markdown",
   "metadata": {},
   "source": [
    "- bikeshare_trip_details\n",
    "```\n",
    "#standardSQL\n",
    "SELECT  trip_id, duration_sec, start_date as start_datetime, start_station_name, start_station_id,\n",
    "end_date as end_datetime, end_station_name, end_station_id, bike_number, zip_code,subscriber_type,\n",
    "FORMAT_DATETIME(\"%x\",DATETIME(start_date)) as start_date,\n",
    "FORMAT_DATETIME(\"%X\",DATETIME(start_date)) as start_time,\n",
    "FORMAT_DATETIME(\"%Y\",DATETIME(start_date)) as trip_year,\n",
    "FORMAT_DATETIME(\"%b\",DATETIME(start_date)) as trip_month,\n",
    "FORMAT_DATETIME(\"%m\",DATETIME(start_date)) as trip_month_num,\n",
    "FORMAT_DATETIME(\"%d\",DATETIME(start_date)) as trip_day_num,\n",
    "FORMAT_DATETIME(\"%a\",DATETIME(start_date)) as trip_day_of_week,\n",
    "FORMAT_DATETIME(\"%H\",DATETIME(start_date)) as trip_hour,\n",
    "FORMAT_DATETIME(\"%x\",DATETIME(end_date)) as end_date,\n",
    "FORMAT_DATETIME(\"%X\",DATETIME(end_date)) as end_time,\n",
    "case when start_station_name=end_station_name then 'RoundTrip' else 'OneWayTrip' end as trip_type,\n",
    "case when cast(format_datetime(\"%H\",datetime(start_date)) as int64) between 0 and 2 then \"Night\"  \n",
    "when cast(format_datetime(\"%H\",datetime(start_date)) as int64) between 2 and 5 then \"Early Morning\"  \n",
    "when cast(format_datetime(\"%H\",datetime(start_date)) as int64) between 5 and 12 then \"Morning\"    \n",
    "when cast(format_datetime(\"%H\",datetime(start_date)) as int64) between 12 and 17 then \"Afternoon\"\n",
    "when cast(format_datetime(\"%H\",datetime(start_date)) as int64) between 17 and 22 then \"Evening\"\n",
    "when cast(format_datetime(\"%H\",datetime(start_date)) as int64) between 22 and 24 then \"Night\"end as trip_time\n",
    "FROM `bigquery-public-data.san_francisco.bikeshare_trips`\n",
    "```"
   ]
  }
 ],
 "metadata": {
  "kernelspec": {
   "display_name": "Python 3",
   "language": "python",
   "name": "python3"
  },
  "language_info": {
   "codemirror_mode": {
    "name": "ipython",
    "version": 3
   },
   "file_extension": ".py",
   "mimetype": "text/x-python",
   "name": "python",
   "nbconvert_exporter": "python",
   "pygments_lexer": "ipython3",
   "version": "3.5.2"
  }
 },
 "nbformat": 4,
 "nbformat_minor": 2
}
